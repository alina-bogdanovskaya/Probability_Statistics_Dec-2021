{
  "nbformat": 4,
  "nbformat_minor": 0,
  "metadata": {
    "colab": {
      "name": "Combinatorics_probability.ipynb",
      "provenance": [],
      "authorship_tag": "ABX9TyMSfQVCveTXAQSNl8/EBWod",
      "include_colab_link": true
    },
    "kernelspec": {
      "name": "python3",
      "display_name": "Python 3"
    },
    "language_info": {
      "name": "python"
    }
  },
  "cells": [
    {
      "cell_type": "markdown",
      "metadata": {
        "id": "view-in-github",
        "colab_type": "text"
      },
      "source": [
        "<a href=\"https://colab.research.google.com/github/alina-bogdanovskaya/Probability_Statistics_Dec-2021/blob/lesson1/Combinatorics_probability.ipynb\" target=\"_parent\"><img src=\"https://colab.research.google.com/assets/colab-badge.svg\" alt=\"Open In Colab\"/></a>"
      ]
    },
    {
      "cell_type": "code",
      "source": [
        "%matplotlib inline\n",
        "import random\n",
        "from math import factorial as fact\n",
        "import itertools "
      ],
      "metadata": {
        "id": "HntJ0P6AMuyx"
      },
      "execution_count": 31,
      "outputs": []
    },
    {
      "cell_type": "code",
      "source": [
        "def combinations(n, k):\n",
        "    return int(fact(n) / (fact(k) * fact(n - k)))\n"
      ],
      "metadata": {
        "id": "YyHVypRhMpqq"
      },
      "execution_count": 32,
      "outputs": []
    },
    {
      "cell_type": "markdown",
      "source": [
        "Из колоды в 52 карты извлекаются случайным образом 4 карты. \n",
        "a) Найти вероятность того, что все карты – крести. "
      ],
      "metadata": {
        "id": "yxeKS0lq9V_G"
      }
    },
    {
      "cell_type": "code",
      "source": [
        "13/52 * 12/51 * 11/50 * 10/49 "
      ],
      "metadata": {
        "colab": {
          "base_uri": "https://localhost:8080/"
        },
        "id": "sCFR5k3tNk1z",
        "outputId": "2e804035-3f91-4748-f156-c5d99d3701f9"
      },
      "execution_count": 33,
      "outputs": [
        {
          "output_type": "execute_result",
          "data": {
            "text/plain": [
              "0.0026410564225690276"
            ]
          },
          "metadata": {},
          "execution_count": 33
        }
      ]
    },
    {
      "cell_type": "code",
      "source": [
        "no_clubs = combinations(39, 0)\n",
        "clubs = combinations(13, 4)\n",
        "all = combinations(52, 4) \n",
        "\n",
        "print(no_clubs, clubs, all)\n",
        "print(f'Probability: {(no_clubs*clubs)/all}')"
      ],
      "metadata": {
        "colab": {
          "base_uri": "https://localhost:8080/"
        },
        "id": "3MPkrAHEH0lW",
        "outputId": "3f9bfc5a-392f-4882-f2c3-83714d8c4398"
      },
      "execution_count": 34,
      "outputs": [
        {
          "output_type": "stream",
          "name": "stdout",
          "text": [
            "1 715 270725\n",
            "Probability: 0.0026410564225690276\n"
          ]
        }
      ]
    },
    {
      "cell_type": "code",
      "execution_count": 37,
      "metadata": {
        "colab": {
          "base_uri": "https://localhost:8080/"
        },
        "id": "xY-uUoeMMlAc",
        "outputId": "6619d2ae-02b3-4219-fc36-9559bc2c6c62"
      },
      "outputs": [
        {
          "output_type": "stream",
          "name": "stdout",
          "text": [
            "Probability: 0.002721\n"
          ]
        }
      ],
      "source": [
        "n = 1000000\n",
        "k = 0\n",
        "\n",
        "for i in range(n):\n",
        "  cards = list(range(1, 53))\n",
        "  random.shuffle(cards)\n",
        "  clubs = 0\n",
        "  for item in range(4):\n",
        "    a = cards.pop()\n",
        "    if a < 14:\n",
        "      clubs += 1\n",
        "    else:\n",
        "      break\n",
        "  if clubs == 4:\n",
        "    k += 1\n",
        "\n",
        "print(f'Probability: {k/n}')"
      ]
    },
    {
      "cell_type": "markdown",
      "source": [
        "б) Найти вероятность, что среди 4-х карт окажется хотя бы один туз."
      ],
      "metadata": {
        "id": "qj452lj89lfM"
      }
    },
    {
      "cell_type": "code",
      "source": [
        "1 - (48/52 * 47/51 * 46/50 * 45/49)"
      ],
      "metadata": {
        "colab": {
          "base_uri": "https://localhost:8080/"
        },
        "id": "mhnqpD5VObce",
        "outputId": "8daa4a2f-e047-49de-cf4c-dc89ffc6c6ef"
      },
      "execution_count": null,
      "outputs": [
        {
          "output_type": "execute_result",
          "data": {
            "text/plain": [
              "0.2812632745405854"
            ]
          },
          "metadata": {},
          "execution_count": 23
        }
      ]
    },
    {
      "cell_type": "code",
      "source": [
        "a = combinations(4, 1)\n",
        "b = combinations(4, 2)\n",
        "c = combinations(4, 3)\n",
        "d = combinations(4, 4)\n",
        "e = combinations(48, 3)\n",
        "f = combinations(48, 2)\n",
        "g = combinations(48, 1)\n",
        "h = combinations(48, 0)\n",
        "i = combinations(52, 4)\n",
        "\n",
        "print(a, b, c, d, e, f, g, h, i)\n",
        "print(f'Probability: {(a*e + b*f + c*g + d*h)/i}')"
      ],
      "metadata": {
        "colab": {
          "base_uri": "https://localhost:8080/"
        },
        "id": "uMs2f7wgJYHB",
        "outputId": "9fa5a446-fc26-4fa5-ff68-81c28759a1fc"
      },
      "execution_count": null,
      "outputs": [
        {
          "output_type": "stream",
          "name": "stdout",
          "text": [
            "4 6 4 1 17296 1128 48 1 270725\n",
            "Probability: 0.2812632745405855\n"
          ]
        }
      ]
    },
    {
      "cell_type": "code",
      "source": [
        "n = 1000000\n",
        "k = 0\n",
        "\n",
        "for i in range(n):\n",
        "  cards = list(range(1, 53))\n",
        "  random.shuffle(cards)\n",
        "  aces = 0\n",
        "  for item in range(4):\n",
        "    a = cards.pop()\n",
        "    if a < 5:\n",
        "      aces += 1\n",
        "      break\n",
        "  if aces == 1:\n",
        "    k += 1\n",
        "\n",
        "print(f'Probability: {k/n}')"
      ],
      "metadata": {
        "colab": {
          "base_uri": "https://localhost:8080/"
        },
        "id": "jyDvQgjRN-YL",
        "outputId": "284e3448-a5db-4bcc-d61f-08dac484bcf9"
      },
      "execution_count": 38,
      "outputs": [
        {
          "output_type": "stream",
          "name": "stdout",
          "text": [
            "Probability: 0.28135\n"
          ]
        }
      ]
    },
    {
      "cell_type": "markdown",
      "source": [
        "На входной двери подъезда установлен кодовый замок, содержащий десять кнопок с цифрами от 0 до 9. Код содержит три цифры, которые нужно нажать одновременно. Какова вероятность того, что человек, не знающий код, откроет дверь с первой попытки?"
      ],
      "metadata": {
        "id": "ElH1B_QM9-h5"
      }
    },
    {
      "cell_type": "code",
      "source": [
        "a = combinations(10, 3)\n",
        "\n",
        "print(f'Probability: {1/a}')"
      ],
      "metadata": {
        "colab": {
          "base_uri": "https://localhost:8080/"
        },
        "id": "aI5-w6J9Rb9j",
        "outputId": "2dc6ad47-f312-4b8b-84f3-cf697367372f"
      },
      "execution_count": null,
      "outputs": [
        {
          "output_type": "stream",
          "name": "stdout",
          "text": [
            "Probability: 0.008333333333333333\n"
          ]
        }
      ]
    },
    {
      "cell_type": "code",
      "source": [
        "n = 100000\n",
        "k = 0\n",
        "code = [7, 0, 6]\n",
        "\n",
        "for i in range(n):\n",
        "  buttons = list(range(0, 10))\n",
        "  random.shuffle(buttons)\n",
        "  if buttons[0] in code and buttons[1] in code and buttons[2] in code:\n",
        "    k += 1\n",
        "\n",
        "print(f'Probability: {k/n}')"
      ],
      "metadata": {
        "colab": {
          "base_uri": "https://localhost:8080/"
        },
        "id": "rVzdB0mGSbcO",
        "outputId": "47a25d2a-9753-4831-fa1a-663b0afd8f3d"
      },
      "execution_count": 40,
      "outputs": [
        {
          "output_type": "stream",
          "name": "stdout",
          "text": [
            "Probability: 0.00834\n"
          ]
        }
      ]
    },
    {
      "cell_type": "markdown",
      "source": [
        "В ящике имеется 15 деталей, из которых 9 окрашены. Рабочий случайным образом извлекает 3 детали. Какова вероятность того, что все извлеченные детали окрашены?"
      ],
      "metadata": {
        "id": "aBXXjRB6-Qcv"
      }
    },
    {
      "cell_type": "code",
      "source": [
        "9/15 * 8/14 * 7/13"
      ],
      "metadata": {
        "colab": {
          "base_uri": "https://localhost:8080/"
        },
        "id": "Yt1u1l4XWczn",
        "outputId": "6d2d07da-a144-40c2-9ca9-6ee805b632ca"
      },
      "execution_count": null,
      "outputs": [
        {
          "output_type": "execute_result",
          "data": {
            "text/plain": [
              "0.1846153846153846"
            ]
          },
          "metadata": {},
          "execution_count": 21
        }
      ]
    },
    {
      "cell_type": "code",
      "source": [
        "chrom = combinations(9, 3)\n",
        "achrom = combinations(6, 0)\n",
        "all = combinations(15, 3)\n",
        "\n",
        "print(f'Probability: {chrom * achrom / all}')"
      ],
      "metadata": {
        "colab": {
          "base_uri": "https://localhost:8080/"
        },
        "id": "4F6GPpZ7MiIr",
        "outputId": "08efb469-ae10-4b08-a61c-d8e4ea2d2af0"
      },
      "execution_count": null,
      "outputs": [
        {
          "output_type": "stream",
          "name": "stdout",
          "text": [
            "Probability: 0.18461538461538463\n"
          ]
        }
      ]
    },
    {
      "cell_type": "code",
      "source": [
        "n = 100000\n",
        "k = 0\n",
        "\n",
        "for i in range(n):\n",
        "  items = list(range(1, 16))\n",
        "  random.shuffle(items)\n",
        "  chrom = 0\n",
        "  for item in range(3):\n",
        "    a = items.pop()\n",
        "    if a < 10:\n",
        "      chrom += 1\n",
        "    else:\n",
        "      break\n",
        "  if chrom == 3:\n",
        "    k += 1\n",
        "\n",
        "print(f'Probability: {k/n}')"
      ],
      "metadata": {
        "colab": {
          "base_uri": "https://localhost:8080/"
        },
        "id": "hdHIbxVdWAFV",
        "outputId": "434f9bc3-c6d3-4698-9048-cee81ea2b9b5"
      },
      "execution_count": 39,
      "outputs": [
        {
          "output_type": "stream",
          "name": "stdout",
          "text": [
            "Probability: 0.18303\n"
          ]
        }
      ]
    },
    {
      "cell_type": "markdown",
      "source": [
        "В лотерее 100 билетов. Из них 2 выигрышных. Какова вероятность того, что 2 приобретенных билета окажутся выигрышными?"
      ],
      "metadata": {
        "id": "PZn5vA6J-Wvb"
      }
    },
    {
      "cell_type": "code",
      "source": [
        "2/100 * 1/99"
      ],
      "metadata": {
        "colab": {
          "base_uri": "https://localhost:8080/"
        },
        "id": "ez-opifQXLsW",
        "outputId": "4f3903a1-4158-4944-863f-a4b3e1b82687"
      },
      "execution_count": null,
      "outputs": [
        {
          "output_type": "execute_result",
          "data": {
            "text/plain": [
              "0.00020202020202020202"
            ]
          },
          "metadata": {},
          "execution_count": 23
        }
      ]
    },
    {
      "cell_type": "code",
      "source": [
        "win = combinations(2, 2)\n",
        "loss = combinations(98, 0)\n",
        "all = combinations(100, 2)\n",
        "\n",
        "print(f'Probability: {win * loss / all}')"
      ],
      "metadata": {
        "colab": {
          "base_uri": "https://localhost:8080/"
        },
        "id": "DSZWy8SoCELR",
        "outputId": "2a2dcdef-544f-4aa5-a86f-77b017767814"
      },
      "execution_count": null,
      "outputs": [
        {
          "output_type": "stream",
          "name": "stdout",
          "text": [
            "Probability: 0.00020202020202020202\n"
          ]
        }
      ]
    },
    {
      "cell_type": "code",
      "source": [
        "n = 1000000\n",
        "k = 0\n",
        "\n",
        "for i in range(n):\n",
        "  tickets = list(range(1, 101))\n",
        "  random.shuffle(tickets)\n",
        "  wins = 0\n",
        "  for item in range(2):\n",
        "    a = tickets.pop()\n",
        "    if a < 3:\n",
        "      wins += 1\n",
        "  if wins == 2:\n",
        "    k += 1\n",
        "\n",
        "print(f'Probability: {k/n}')"
      ],
      "metadata": {
        "colab": {
          "base_uri": "https://localhost:8080/"
        },
        "id": "CivVLtjuXUdd",
        "outputId": "d5e8a01b-60cd-42e3-bc25-d8204c6510a9"
      },
      "execution_count": null,
      "outputs": [
        {
          "output_type": "stream",
          "name": "stdout",
          "text": [
            "201\n",
            "0.000201\n"
          ]
        }
      ]
    }
  ]
}