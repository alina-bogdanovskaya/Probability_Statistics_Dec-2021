{
  "nbformat": 4,
  "nbformat_minor": 0,
  "metadata": {
    "colab": {
      "name": "Linear_regression.ipynb",
      "provenance": [],
      "collapsed_sections": [],
      "authorship_tag": "ABX9TyNSHG3BrEYSKUDeCznJY+YY",
      "include_colab_link": true
    },
    "kernelspec": {
      "name": "python3",
      "display_name": "Python 3"
    },
    "language_info": {
      "name": "python"
    }
  },
  "cells": [
    {
      "cell_type": "markdown",
      "metadata": {
        "id": "view-in-github",
        "colab_type": "text"
      },
      "source": [
        "<a href=\"https://colab.research.google.com/github/alina-bogdanovskaya/Probability_Statistics_Dec-2021/blob/lesson7/Linear_regression.ipynb\" target=\"_parent\"><img src=\"https://colab.research.google.com/assets/colab-badge.svg\" alt=\"Open In Colab\"/></a>"
      ]
    },
    {
      "cell_type": "code",
      "execution_count": 82,
      "metadata": {
        "id": "kkKXQf7A2L8t"
      },
      "outputs": [],
      "source": [
        "%matplotlib inline\n",
        "import numpy as np\n",
        "import matplotlib.pyplot as plt"
      ]
    },
    {
      "cell_type": "markdown",
      "source": [
        "Даны значения величины заработной платы заемщиков банка (zp) и значения их поведенческого кредитного скоринга (ks): zp = [35, 45, 190, 200, 40, 70, 54, 150, 120, 110], ks = [401, 574, 874, 919, 459, 739, 653, 902, 746, 832]. Используя математические операции, посчитать коэффициенты линейной регрессии, приняв за X заработную плату (то есть, zp - признак), а за y - значения скорингового балла (то есть, ks - целевая переменная). Произвести расчет как с использованием intercept, так и без."
      ],
      "metadata": {
        "id": "REe0Ljv82gpq"
      }
    },
    {
      "cell_type": "code",
      "source": [
        "zp = np.array([35, 45, 190, 200, 40, 70, 54, 150, 120, 110])\n",
        "ks = np.array([401, 574, 874, 919, 459, 739, 653, 902, 746, 832])\n",
        "\n",
        "n = zp.size\n",
        "\n",
        "x = zp\n",
        "y = ks"
      ],
      "metadata": {
        "id": "ZNuFNRB22SJu"
      },
      "execution_count": 83,
      "outputs": []
    },
    {
      "cell_type": "code",
      "source": [
        "b = (n*np.sum(x*y) - np.sum(x)*np.sum(y))/(n*np.sum(x**2) - np.sum(x)**2)\n",
        "b"
      ],
      "metadata": {
        "colab": {
          "base_uri": "https://localhost:8080/"
        },
        "id": "VWCWsXwK3eA1",
        "outputId": "2a5b3f8d-c26a-43ed-ef56-96db8730e1a9"
      },
      "execution_count": 85,
      "outputs": [
        {
          "output_type": "execute_result",
          "data": {
            "text/plain": [
              "2.6205388824027653"
            ]
          },
          "metadata": {},
          "execution_count": 85
        }
      ]
    },
    {
      "cell_type": "code",
      "source": [
        "a = np.mean(y) - b*np.mean(x)\n",
        "a"
      ],
      "metadata": {
        "colab": {
          "base_uri": "https://localhost:8080/"
        },
        "id": "BTwa-E_y5Ib1",
        "outputId": "624f073f-2644-4b8c-e2e9-6adef6cf8fd1"
      },
      "execution_count": 86,
      "outputs": [
        {
          "output_type": "execute_result",
          "data": {
            "text/plain": [
              "444.17735732435955"
            ]
          },
          "metadata": {},
          "execution_count": 86
        }
      ]
    },
    {
      "cell_type": "code",
      "source": [
        "y_hat = a + b*x\n",
        "y_hat"
      ],
      "metadata": {
        "colab": {
          "base_uri": "https://localhost:8080/"
        },
        "id": "ipFBnS8O5pe_",
        "outputId": "d5e76d0d-bbed-4619-cf02-8678d966d8e7"
      },
      "execution_count": 87,
      "outputs": [
        {
          "output_type": "execute_result",
          "data": {
            "text/plain": [
              "array([535.89621821, 562.10160703, 942.07974498, 968.2851338 ,\n",
              "       548.99891262, 627.61507909, 585.68645697, 837.25818968,\n",
              "       758.64202321, 732.43663439])"
            ]
          },
          "metadata": {},
          "execution_count": 87
        }
      ]
    },
    {
      "cell_type": "code",
      "source": [
        "mse = ((y - y_hat)**2).sum()/n\n",
        "mse"
      ],
      "metadata": {
        "colab": {
          "base_uri": "https://localhost:8080/"
        },
        "id": "Ai8EhKCP9hlB",
        "outputId": "e7460b16-9e4b-4b9e-95bc-668af5180a76"
      },
      "execution_count": 88,
      "outputs": [
        {
          "output_type": "execute_result",
          "data": {
            "text/plain": [
              "6470.414201176658"
            ]
          },
          "metadata": {},
          "execution_count": 88
        }
      ]
    },
    {
      "cell_type": "code",
      "source": [
        "rmse = np.sqrt(mse)\n",
        "rmse"
      ],
      "metadata": {
        "colab": {
          "base_uri": "https://localhost:8080/"
        },
        "id": "hn-OlolG-IvB",
        "outputId": "a409f7ab-edb8-45f7-ce07-fb2e1192eb77"
      },
      "execution_count": 89,
      "outputs": [
        {
          "output_type": "execute_result",
          "data": {
            "text/plain": [
              "80.43888488272732"
            ]
          },
          "metadata": {},
          "execution_count": 89
        }
      ]
    },
    {
      "cell_type": "code",
      "source": [
        "plt.scatter(x,y)\n",
        "plt.plot(x, y_hat, color = 'g')"
      ],
      "metadata": {
        "colab": {
          "base_uri": "https://localhost:8080/",
          "height": 283
        },
        "id": "F1xerTZp8b6C",
        "outputId": "22899bc1-2275-4319-b49d-457a1c5d62cc"
      },
      "execution_count": 91,
      "outputs": [
        {
          "output_type": "execute_result",
          "data": {
            "text/plain": [
              "[<matplotlib.lines.Line2D at 0x7f5f96309510>]"
            ]
          },
          "metadata": {},
          "execution_count": 91
        },
        {
          "output_type": "display_data",
          "data": {
            "image/png": "[encoded data removed]",
            "text/plain": [
              "<Figure size 432x288 with 1 Axes>"
            ]
          },
          "metadata": {
            "needs_background": "light"
          }
        }
      ]
    },
    {
      "cell_type": "code",
      "source": [
        "x1 = x.reshape(n,1)\n",
        "x1"
      ],
      "metadata": {
        "colab": {
          "base_uri": "https://localhost:8080/"
        },
        "id": "J7D-yEWDBpMR",
        "outputId": "960d93d8-e349-45b7-c5e3-dcdd9e42297e"
      },
      "execution_count": 92,
      "outputs": [
        {
          "output_type": "execute_result",
          "data": {
            "text/plain": [
              "array([[ 35],\n",
              "       [ 45],\n",
              "       [190],\n",
              "       [200],\n",
              "       [ 40],\n",
              "       [ 70],\n",
              "       [ 54],\n",
              "       [150],\n",
              "       [120],\n",
              "       [110]])"
            ]
          },
          "metadata": {},
          "execution_count": 92
        }
      ]
    },
    {
      "cell_type": "code",
      "source": [
        "y1 = y.reshape(n,1)\n",
        "y1"
      ],
      "metadata": {
        "colab": {
          "base_uri": "https://localhost:8080/"
        },
        "id": "w8HMaCT5Byi-",
        "outputId": "2c7a5948-f7cf-4588-eced-5b7e82ec0a9f"
      },
      "execution_count": 93,
      "outputs": [
        {
          "output_type": "execute_result",
          "data": {
            "text/plain": [
              "array([[401],\n",
              "       [574],\n",
              "       [874],\n",
              "       [919],\n",
              "       [459],\n",
              "       [739],\n",
              "       [653],\n",
              "       [902],\n",
              "       [746],\n",
              "       [832]])"
            ]
          },
          "metadata": {},
          "execution_count": 93
        }
      ]
    },
    {
      "cell_type": "code",
      "source": [
        "x2 = np.hstack([np.ones((n,1)), x1])\n",
        "x2"
      ],
      "metadata": {
        "colab": {
          "base_uri": "https://localhost:8080/"
        },
        "id": "wH_CRu7NCnHt",
        "outputId": "f6bbb967-5c45-4a59-8551-6ee88cf74cce"
      },
      "execution_count": 94,
      "outputs": [
        {
          "output_type": "execute_result",
          "data": {
            "text/plain": [
              "array([[  1.,  35.],\n",
              "       [  1.,  45.],\n",
              "       [  1., 190.],\n",
              "       [  1., 200.],\n",
              "       [  1.,  40.],\n",
              "       [  1.,  70.],\n",
              "       [  1.,  54.],\n",
              "       [  1., 150.],\n",
              "       [  1., 120.],\n",
              "       [  1., 110.]])"
            ]
          },
          "metadata": {},
          "execution_count": 94
        }
      ]
    },
    {
      "cell_type": "code",
      "source": [
        "B = np.linalg.inv(x2.T @ x2)@ x2.T@y\n",
        "B"
      ],
      "metadata": {
        "colab": {
          "base_uri": "https://localhost:8080/"
        },
        "id": "shb-9tiTghg8",
        "outputId": "75692c26-d9e6-4683-8ca0-e7f2700e79d7"
      },
      "execution_count": 95,
      "outputs": [
        {
          "output_type": "execute_result",
          "data": {
            "text/plain": [
              "array([444.17735732,   2.62053888])"
            ]
          },
          "metadata": {},
          "execution_count": 95
        }
      ]
    },
    {
      "cell_type": "code",
      "source": [
        "B_no_int = np.dot(np.linalg.inv(np.dot(x1.T, x1)), x1.T@y)\n",
        "B_no_int"
      ],
      "metadata": {
        "colab": {
          "base_uri": "https://localhost:8080/"
        },
        "id": "0RM3KMmwEuZ6",
        "outputId": "1d843bb5-025d-43a1-93d0-36bc91643095"
      },
      "execution_count": 97,
      "outputs": [
        {
          "output_type": "execute_result",
          "data": {
            "text/plain": [
              "array([5.88982042])"
            ]
          },
          "metadata": {},
          "execution_count": 97
        }
      ]
    },
    {
      "cell_type": "markdown",
      "source": [
        "Посчитать коэффициент линейной регрессии при заработной плате (zp), используя градиентный спуск (без intercept)."
      ],
      "metadata": {
        "id": "N1t0nh-NTzIw"
      }
    },
    {
      "cell_type": "code",
      "source": [
        "def mse_no_int(B1, y=y, x=x, n=n):\n",
        "  return np.sum((B1*x - y)**2)/n"
      ],
      "metadata": {
        "id": "6vJJQiJ3UV8G"
      },
      "execution_count": 98,
      "outputs": []
    },
    {
      "cell_type": "code",
      "source": [
        "def mse_no_int_p(B1, y=y, x=x, n=n): \n",
        "  return 2/n * np.sum((B1*x - y)*x)"
      ],
      "metadata": {
        "id": "bZb643IBVoH7"
      },
      "execution_count": 99,
      "outputs": []
    },
    {
      "cell_type": "code",
      "source": [
        "alpha = 1e-5\n",
        "B1 = 1"
      ],
      "metadata": {
        "id": "sxjgIcCpWi9O"
      },
      "execution_count": 100,
      "outputs": []
    },
    {
      "cell_type": "code",
      "source": [
        "for i in range(1000):\n",
        "  B1 -= alpha*mse_no_int_p(B1)\n",
        "  if i%100==0:\n",
        "    print(f'Iteration: {i}, B1 = {B1}, mse = {mse_no_int(B1)}')"
      ],
      "metadata": {
        "colab": {
          "base_uri": "https://localhost:8080/"
        },
        "id": "qhZQXRO6W5ls",
        "outputId": "b7fe738e-7210-4ea7-cd21-89125b46ffbe"
      },
      "execution_count": 101,
      "outputs": [
        {
          "output_type": "stream",
          "name": "stdout",
          "text": [
            "Iteration: 0, B1 = 2.347302, mse = 229405.42884192182\n",
            "Iteration: 100, B1 = 5.8898204201326525, mse = 56516.8584157194\n",
            "Iteration: 200, B1 = 5.889820420132688, mse = 56516.8584157194\n",
            "Iteration: 300, B1 = 5.889820420132688, mse = 56516.8584157194\n",
            "Iteration: 400, B1 = 5.889820420132688, mse = 56516.8584157194\n",
            "Iteration: 500, B1 = 5.889820420132688, mse = 56516.8584157194\n",
            "Iteration: 600, B1 = 5.889820420132688, mse = 56516.8584157194\n",
            "Iteration: 700, B1 = 5.889820420132688, mse = 56516.8584157194\n",
            "Iteration: 800, B1 = 5.889820420132688, mse = 56516.8584157194\n",
            "Iteration: 900, B1 = 5.889820420132688, mse = 56516.8584157194\n"
          ]
        }
      ]
    },
    {
      "cell_type": "markdown",
      "source": [
        "Произвести вычисления как в пункте 2, но с вычислением intercept. Учесть, что изменение коэффициентов должно производиться на каждом шаге одновременно (то есть изменение одного коэффициента не должно влиять на изменение другого во время одной итерации)."
      ],
      "metadata": {
        "id": "GBPVJ6g3UIvK"
      }
    },
    {
      "cell_type": "code",
      "source": [
        "def mse_int(B0, B1, y=y, x=x, n=n):\n",
        "  return np.sum((B0 + B1*x - y)**2)/n"
      ],
      "metadata": {
        "id": "yLHeJhiPa-v1"
      },
      "execution_count": 102,
      "outputs": []
    },
    {
      "cell_type": "code",
      "source": [
        "def mse_int_p(B0, B1, y=y, x=x, n=n): \n",
        "  return 2/n * np.sum((B0 + B1*x - y)*x), 2/n * np.sum(B0 + B1*x - y)"
      ],
      "metadata": {
        "id": "X5BLN0L7bEsi"
      },
      "execution_count": 103,
      "outputs": []
    },
    {
      "cell_type": "code",
      "source": [
        "alpha = 1/25000\n",
        "B0 = 400\n",
        "B1 = 1"
      ],
      "metadata": {
        "id": "mpZ0SM7rbOde"
      },
      "execution_count": 104,
      "outputs": []
    },
    {
      "cell_type": "code",
      "source": [
        "for i in range(1000001):\n",
        "  d_B1, d_B0 = mse_int_p(B0, B1)\n",
        "  B1 -= alpha*d_B1\n",
        "  B0 -= alpha*d_B0\n",
        "  if i%50000==0:\n",
        "    print(f'Iteration: {i}, B0 = {B0}, B1 = {B1}, mse = {mse_int(B0, B1)}')"
      ],
      "metadata": {
        "colab": {
          "base_uri": "https://localhost:8080/"
        },
        "outputId": "c0215738-0438-4811-e590-a08c7bd17764",
        "id": "oWR3cNVGbT9O"
      },
      "execution_count": 105,
      "outputs": [
        {
          "output_type": "stream",
          "name": "stdout",
          "text": [
            "Iteration: 0, B0 = 400.01668, B1 = 3.1444080000000003, mse = 7509.754541855978\n",
            "Iteration: 50000, B0 = 428.1667268145819, B1 = 2.738384201661101, mse = 6535.438737678039\n",
            "Iteration: 100000, B0 = 438.3728314282218, B1 = 2.6632627593266567, mse = 6478.960811463798\n",
            "Iteration: 150000, B0 = 442.07297293684906, B1 = 2.636028081896626, mse = 6471.537539401434\n",
            "Iteration: 200000, B0 = 443.4144296142202, B1 = 2.626154367659108, mse = 6470.56184904229\n",
            "Iteration: 250000, B0 = 443.9007639917182, B1 = 2.622574731619943, mse = 6470.433607524404\n",
            "Iteration: 300000, B0 = 444.07708062625665, B1 = 2.621276963235678, mse = 6470.416751882903\n",
            "Iteration: 350000, B0 = 444.1410028103646, B1 = 2.620806467699022, mse = 6470.414536433066\n",
            "Iteration: 400000, B0 = 444.16417728639505, B1 = 2.620635893309414, mse = 6470.414245241654\n",
            "Iteration: 450000, B0 = 444.1725790071245, B1 = 2.620574052930231, mse = 6470.414206968415\n",
            "Iteration: 500000, B0 = 444.1756249837028, B1 = 2.620551633195911, mse = 6470.414201937905\n",
            "Iteration: 550000, B0 = 444.17672927812436, B1 = 2.620543505100732, mse = 6470.414201276717\n",
            "Iteration: 600000, B0 = 444.17712963122653, B1 = 2.6205405583248935, mse = 6470.414201189809\n",
            "Iteration: 650000, B0 = 444.1772747760357, B1 = 2.6205394899949264, mse = 6470.414201178384\n",
            "Iteration: 700000, B0 = 444.1773273971286, B1 = 2.620539102680417, mse = 6470.4142011768845\n",
            "Iteration: 750000, B0 = 444.17734647448145, B1 = 2.6205389622626654, mse = 6470.414201176687\n",
            "Iteration: 800000, B0 = 444.17735339082304, B1 = 2.6205389113553337, mse = 6470.414201176664\n",
            "Iteration: 850000, B0 = 444.17735589828646, B1 = 2.6205388928992943, mse = 6470.414201176662\n",
            "Iteration: 900000, B0 = 444.1773568073485, B1 = 2.620538886208196, mse = 6470.414201176656\n",
            "Iteration: 950000, B0 = 444.177357136918, B1 = 2.6205388837824186, mse = 6470.414201176662\n",
            "Iteration: 1000000, B0 = 444.1773572563995, B1 = 2.6205388829029816, mse = 6470.414201176662\n"
          ]
        }
      ]
    }
  ]
}