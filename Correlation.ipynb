{
  "nbformat": 4,
  "nbformat_minor": 0,
  "metadata": {
    "colab": {
      "name": "Correlation.ipynb",
      "provenance": [],
      "authorship_tag": "ABX9TyPnV3Mcp24pzmIhwsyDw5Qa",
      "include_colab_link": true
    },
    "kernelspec": {
      "name": "python3",
      "display_name": "Python 3"
    },
    "language_info": {
      "name": "python"
    }
  },
  "cells": [
    {
      "cell_type": "markdown",
      "metadata": {
        "id": "view-in-github",
        "colab_type": "text"
      },
      "source": [
        "<a href=\"https://colab.research.google.com/github/alina-bogdanovskaya/Probability_Statistics_Dec-2021/blob/lesson6/Correlation.ipynb\" target=\"_parent\"><img src=\"https://colab.research.google.com/assets/colab-badge.svg\" alt=\"Open In Colab\"/></a>"
      ]
    },
    {
      "cell_type": "code",
      "execution_count": 1,
      "metadata": {
        "id": "oF34GR0CexXa"
      },
      "outputs": [],
      "source": [
        "%matplotlib inline\n",
        "import numpy as np\n",
        "import pandas as pd\n",
        "import matplotlib.pyplot as plt\n",
        "from scipy import stats"
      ]
    },
    {
      "cell_type": "markdown",
      "source": [
        "Даны значения величины заработной платы заемщиков банка (zp) и значения их поведенческого кредитного скоринга (ks):\n",
        "zp = [35, 45, 190, 200, 40, 70, 54, 150, 120, 110],\n",
        "ks = [401, 574, 874, 919, 459, 739, 653, 902, 746, 832].\n",
        "\n",
        "Найдите ковариацию этих двух величин с помощью элементарных действий, а затем с помощью функции cov из numpy.\n",
        "\n",
        "Полученные значения должны быть равны.\n",
        "\n",
        "Найдите коэффициент корреляции Пирсона с помощью ковариации и среднеквадратичных отклонений двух признаков,\n",
        "а затем с использованием функций из библиотек numpy и pandas."
      ],
      "metadata": {
        "id": "dxelYIJafBoP"
      }
    },
    {
      "cell_type": "code",
      "source": [
        "zp = np.array([35, 45, 190, 200, 40, 70, 54, 150, 120, 110])\n",
        "ks = np.array([401, 574, 874, 919, 459, 739, 653, 902, 746, 832])\n",
        "\n",
        "np.corrcoef(zp, ks)[0][1]"
      ],
      "metadata": {
        "colab": {
          "base_uri": "https://localhost:8080/"
        },
        "id": "QUJPdNmj67Qe",
        "outputId": "12be7ef9-1f51-4f07-a268-a96d41c9dd71"
      },
      "execution_count": 2,
      "outputs": [
        {
          "output_type": "execute_result",
          "data": {
            "text/plain": [
              "0.8874900920739162"
            ]
          },
          "metadata": {},
          "execution_count": 2
        }
      ]
    },
    {
      "cell_type": "code",
      "source": [
        "cov = np.mean(zp*ks) - np.mean(zp)*np.mean(ks)\n",
        "cov"
      ],
      "metadata": {
        "colab": {
          "base_uri": "https://localhost:8080/"
        },
        "id": "pYjTsRO293WN",
        "outputId": "1e59e4d6-33d2-4755-b3c6-c0cf54821e10"
      },
      "execution_count": 3,
      "outputs": [
        {
          "output_type": "execute_result",
          "data": {
            "text/plain": [
              "9157.839999999997"
            ]
          },
          "metadata": {},
          "execution_count": 3
        }
      ]
    },
    {
      "cell_type": "code",
      "source": [
        "cov_b = np.cov(zp, ks, ddof = 0)[0][1]\n",
        "cov_b"
      ],
      "metadata": {
        "colab": {
          "base_uri": "https://localhost:8080/"
        },
        "id": "xs_zJ-knBBcP",
        "outputId": "ab57b9d6-be2c-4cc5-bcdf-318279483bb7"
      },
      "execution_count": 4,
      "outputs": [
        {
          "output_type": "execute_result",
          "data": {
            "text/plain": [
              "9157.84"
            ]
          },
          "metadata": {},
          "execution_count": 4
        }
      ]
    },
    {
      "cell_type": "code",
      "source": [
        "cov_ub = np.cov(zp, ks, ddof = 1)[0][1]\n",
        "cov_ub"
      ],
      "metadata": {
        "colab": {
          "base_uri": "https://localhost:8080/"
        },
        "id": "r57VbmHKBOCm",
        "outputId": "e5fa930f-4519-48b7-f04a-1fbbf279ac50"
      },
      "execution_count": 5,
      "outputs": [
        {
          "output_type": "execute_result",
          "data": {
            "text/plain": [
              "10175.377777777776"
            ]
          },
          "metadata": {},
          "execution_count": 5
        }
      ]
    },
    {
      "cell_type": "code",
      "source": [
        "sd_zp_b = np.std(zp)\n",
        "sd_ks_b = np.std(ks)\n",
        "\n",
        "print(sd_zp_b)\n",
        "print(sd_ks_b)"
      ],
      "metadata": {
        "colab": {
          "base_uri": "https://localhost:8080/"
        },
        "id": "TsbelmeJ_3HC",
        "outputId": "c4d86a24-c98e-4040-d113-220d8e2280eb"
      },
      "execution_count": 6,
      "outputs": [
        {
          "output_type": "stream",
          "name": "stdout",
          "text": [
            "59.115480206118605\n",
            "174.55340157098058\n"
          ]
        }
      ]
    },
    {
      "cell_type": "code",
      "source": [
        "sd_zp_ub = np.std(zp, ddof = 1)\n",
        "sd_ks_ub = np.std(ks, ddof = 1)\n",
        "\n",
        "print(sd_zp_ub)\n",
        "print(sd_ks_ub)"
      ],
      "metadata": {
        "colab": {
          "base_uri": "https://localhost:8080/"
        },
        "outputId": "057bf963-e581-4bfc-d117-1377ab20a4c5",
        "id": "ai0E7UgeAXmT"
      },
      "execution_count": 7,
      "outputs": [
        {
          "output_type": "stream",
          "name": "stdout",
          "text": [
            "62.31318747531162\n",
            "183.99544076477068\n"
          ]
        }
      ]
    },
    {
      "cell_type": "code",
      "source": [
        "cov_b/(sd_zp_b*sd_ks_b)"
      ],
      "metadata": {
        "colab": {
          "base_uri": "https://localhost:8080/"
        },
        "outputId": "98768030-dde9-42e1-d3af-487d84984b65",
        "id": "e4iDWMKYDIXX"
      },
      "execution_count": 8,
      "outputs": [
        {
          "output_type": "execute_result",
          "data": {
            "text/plain": [
              "0.8874900920739162"
            ]
          },
          "metadata": {},
          "execution_count": 8
        }
      ]
    },
    {
      "cell_type": "code",
      "source": [
        "cov_ub/(sd_zp_ub*sd_ks_ub)"
      ],
      "metadata": {
        "colab": {
          "base_uri": "https://localhost:8080/"
        },
        "id": "zDerUZrXC7XE",
        "outputId": "2985907c-7c0b-4714-bc88-3b520f156f0e"
      },
      "execution_count": 9,
      "outputs": [
        {
          "output_type": "execute_result",
          "data": {
            "text/plain": [
              "0.887490092073916"
            ]
          },
          "metadata": {},
          "execution_count": 9
        }
      ]
    },
    {
      "cell_type": "code",
      "source": [
        "stats.pearsonr(zp, ks)"
      ],
      "metadata": {
        "colab": {
          "base_uri": "https://localhost:8080/"
        },
        "id": "7YLs4PmdGbbC",
        "outputId": "604a407b-16c5-42f8-b2ab-711fdfbd18d4"
      },
      "execution_count": 10,
      "outputs": [
        {
          "output_type": "execute_result",
          "data": {
            "text/plain": [
              "(0.8874900920739164, 0.0006107546587257491)"
            ]
          },
          "metadata": {},
          "execution_count": 10
        }
      ]
    },
    {
      "cell_type": "code",
      "source": [
        "x = pd.Series(zp)\n",
        "y = pd.Series(ks)"
      ],
      "metadata": {
        "id": "GNTvyJZoITX2"
      },
      "execution_count": 11,
      "outputs": []
    },
    {
      "cell_type": "code",
      "source": [
        "x.corr(y)"
      ],
      "metadata": {
        "colab": {
          "base_uri": "https://localhost:8080/"
        },
        "id": "_5l6oNkuIsA4",
        "outputId": "01008e07-b1d6-482a-b92a-3c576b05a28f"
      },
      "execution_count": 12,
      "outputs": [
        {
          "output_type": "execute_result",
          "data": {
            "text/plain": [
              "0.8874900920739162"
            ]
          },
          "metadata": {},
          "execution_count": 12
        }
      ]
    },
    {
      "cell_type": "code",
      "source": [
        "y.corr(x)"
      ],
      "metadata": {
        "colab": {
          "base_uri": "https://localhost:8080/"
        },
        "id": "6S9Z61TaIxJr",
        "outputId": "2472b553-c8d4-40b3-d11f-8545fd6f1fc3"
      },
      "execution_count": 13,
      "outputs": [
        {
          "output_type": "execute_result",
          "data": {
            "text/plain": [
              "0.8874900920739162"
            ]
          },
          "metadata": {},
          "execution_count": 13
        }
      ]
    },
    {
      "cell_type": "markdown",
      "source": [
        "Измерены значения IQ выборки студентов,\n",
        "обучающихся в местных технических вузах:\n",
        "131, 125, 115, 122, 131, 115, 107, 99, 125, 111.\n",
        "Известно, что в генеральной совокупности IQ распределен нормально.\n",
        "Найдите доверительный интервал для математического ожидания с надежностью 0.95."
      ],
      "metadata": {
        "id": "7riPanq7fFHz"
      }
    },
    {
      "cell_type": "markdown",
      "source": [
        "Доверительный интервал для оценки математического ожидания с надежностью 0.95 составляет 110.556 < mu < 125.644"
      ],
      "metadata": {
        "id": "Au2k7Cz72X5y"
      }
    },
    {
      "cell_type": "code",
      "source": [
        "iq = np.array([131, 125, 115, 122, 131, 115, 107, 99, 125, 111])\n",
        "\n",
        "mu = iq.mean()\n",
        "variance = iq.var(ddof = 1)\n",
        "sd = np.sqrt(variance)\n",
        "\n",
        "print(mu)\n",
        "print(variance)\n",
        "print(sd)"
      ],
      "metadata": {
        "colab": {
          "base_uri": "https://localhost:8080/"
        },
        "id": "LQyaW39yghaQ",
        "outputId": "4e731087-c7c9-4a4c-e6ea-618f08f3b683"
      },
      "execution_count": 14,
      "outputs": [
        {
          "output_type": "stream",
          "name": "stdout",
          "text": [
            "118.1\n",
            "111.21111111111111\n",
            "10.54566788359614\n"
          ]
        }
      ]
    },
    {
      "cell_type": "code",
      "source": [
        "n = iq.size\n",
        "n"
      ],
      "metadata": {
        "colab": {
          "base_uri": "https://localhost:8080/"
        },
        "id": "kWNLfUkwvqXR",
        "outputId": "c85f519c-1cf7-4c31-f655-dd03e3919aac"
      },
      "execution_count": 15,
      "outputs": [
        {
          "output_type": "execute_result",
          "data": {
            "text/plain": [
              "10"
            ]
          },
          "metadata": {},
          "execution_count": 15
        }
      ]
    },
    {
      "cell_type": "code",
      "source": [
        "lower_cutoff = stats.t.ppf(0.025, n - 1, loc = mu, scale = sd)\n",
        "upper_cutoff = stats.t.ppf(0.975, n - 1, loc = mu, scale = sd) \n",
        "\n",
        "print(lower_cutoff, upper_cutoff)"
      ],
      "metadata": {
        "colab": {
          "base_uri": "https://localhost:8080/"
        },
        "id": "rhR9HHYMuLmf",
        "outputId": "23f1f3ef-93ce-4dc2-f115-bfc9610774cc"
      },
      "execution_count": 16,
      "outputs": [
        {
          "output_type": "stream",
          "name": "stdout",
          "text": [
            "94.24404186123535 141.95595813876463\n"
          ]
        }
      ]
    },
    {
      "cell_type": "code",
      "source": [
        "stats.t.interval(0.95, n-1, loc = mu, scale = sd)"
      ],
      "metadata": {
        "colab": {
          "base_uri": "https://localhost:8080/"
        },
        "id": "2ZBb8-63Lya6",
        "outputId": "572c1450-e87a-4f06-fee3-9a344e278fb8"
      },
      "execution_count": 17,
      "outputs": [
        {
          "output_type": "execute_result",
          "data": {
            "text/plain": [
              "(94.24404186123536, 141.95595813876463)"
            ]
          },
          "metadata": {},
          "execution_count": 17
        }
      ]
    },
    {
      "cell_type": "code",
      "source": [
        "t = (mu - lower_cutoff)/sd \n",
        "t"
      ],
      "metadata": {
        "colab": {
          "base_uri": "https://localhost:8080/"
        },
        "id": "2WO50l_dvCUL",
        "outputId": "aef1f752-5fa5-48b6-f1c6-d2432d5967e6"
      },
      "execution_count": 18,
      "outputs": [
        {
          "output_type": "execute_result",
          "data": {
            "text/plain": [
              "2.2621571627409924"
            ]
          },
          "metadata": {},
          "execution_count": 18
        }
      ]
    },
    {
      "cell_type": "code",
      "source": [
        "(upper_cutoff - mu)/sd"
      ],
      "metadata": {
        "colab": {
          "base_uri": "https://localhost:8080/"
        },
        "id": "IX8TzPpevJOu",
        "outputId": "0aa2ec99-2b65-4d1e-e202-0cc86c0730f5"
      },
      "execution_count": 19,
      "outputs": [
        {
          "output_type": "execute_result",
          "data": {
            "text/plain": [
              "2.262157162740991"
            ]
          },
          "metadata": {},
          "execution_count": 19
        }
      ]
    },
    {
      "cell_type": "code",
      "source": [
        "lower_lim = mu - t * sd/np.sqrt(n)\n",
        "upper_lim = mu + t * sd/np.sqrt(n)\n",
        "\n",
        "print(lower_lim, upper_lim)"
      ],
      "metadata": {
        "colab": {
          "base_uri": "https://localhost:8080/"
        },
        "id": "WWDupAv4wh_2",
        "outputId": "73250b1e-2b30-4a54-dc5a-f237b174ac54"
      },
      "execution_count": 20,
      "outputs": [
        {
          "output_type": "stream",
          "name": "stdout",
          "text": [
            "110.55608365158724 125.64391634841274\n"
          ]
        }
      ]
    },
    {
      "cell_type": "code",
      "source": [
        "stats.t.interval(0.95, n-1, loc = mu, scale = stats.sem(iq))"
      ],
      "metadata": {
        "colab": {
          "base_uri": "https://localhost:8080/"
        },
        "outputId": "db3f4306-85dc-494e-8574-53f4b5bb426a",
        "id": "7hjBBOzyNZfU"
      },
      "execution_count": 21,
      "outputs": [
        {
          "output_type": "execute_result",
          "data": {
            "text/plain": [
              "(110.55608365158724, 125.64391634841274)"
            ]
          },
          "metadata": {},
          "execution_count": 21
        }
      ]
    },
    {
      "cell_type": "markdown",
      "source": [
        "Известно, что рост футболистов в сборной распределен нормально\n",
        "с дисперсией генеральной совокупности, равной 25 кв.см. Объем выборки равен 27,\n",
        "среднее выборочное составляет 174.2. Найдите доверительный интервал для математического\n",
        "ожидания с надежностью 0.95."
      ],
      "metadata": {
        "id": "MDfME1RofKCa"
      }
    },
    {
      "cell_type": "markdown",
      "source": [
        "Доверительный интервал для оценки математического ожидания с надежностью 0.95 составляет 172.314 < mu < 176.086"
      ],
      "metadata": {
        "id": "Yx3kzgwo5J3F"
      }
    },
    {
      "cell_type": "code",
      "source": [
        "z = 1.96\n",
        "mu = 174.2\n",
        "variance = 25\n",
        "sd = np.sqrt(variance)\n",
        "n = 27\n",
        "\n",
        "lower_lim = mu - z * sd/np.sqrt(n)\n",
        "upper_lim = mu + z * sd/np.sqrt(n)\n",
        "\n",
        "print(lower_lim, upper_lim)"
      ],
      "metadata": {
        "colab": {
          "base_uri": "https://localhost:8080/"
        },
        "id": "d81E2FP01pBo",
        "outputId": "f09555d8-7e56-4a14-cb2d-1210e83219e4"
      },
      "execution_count": 22,
      "outputs": [
        {
          "output_type": "stream",
          "name": "stdout",
          "text": [
            "172.31398912064722 176.08601087935276\n"
          ]
        }
      ]
    }
  ]
}