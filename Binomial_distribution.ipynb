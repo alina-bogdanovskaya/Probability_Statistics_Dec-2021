{
  "nbformat": 4,
  "nbformat_minor": 0,
  "metadata": {
    "colab": {
      "name": "Binomial_distribution.ipynb",
      "provenance": [],
      "collapsed_sections": [],
      "authorship_tag": "ABX9TyMCCi6O/PjFsPBQBBUJ0h8Q",
      "include_colab_link": true
    },
    "kernelspec": {
      "name": "python3",
      "display_name": "Python 3"
    },
    "language_info": {
      "name": "python"
    }
  },
  "cells": [
    {
      "cell_type": "markdown",
      "metadata": {
        "id": "view-in-github",
        "colab_type": "text"
      },
      "source": [
        "<a href=\"https://colab.research.google.com/github/alina-bogdanovskaya/Probability_Statistics_Dec-2021/blob/lesson2/Binomial_distribution.ipynb\" target=\"_parent\"><img src=\"https://colab.research.google.com/assets/colab-badge.svg\" alt=\"Open In Colab\"/></a>"
      ]
    },
    {
      "cell_type": "code",
      "execution_count": 1,
      "metadata": {
        "id": "SEairn7fbhJv"
      },
      "outputs": [],
      "source": [
        "%matplotlib inline\n",
        "import random\n",
        "import math\n",
        "from math import factorial as fact\n",
        "import itertools \n",
        "import numpy as np"
      ]
    },
    {
      "cell_type": "code",
      "source": [
        "def combinations(n, k):\n",
        "    return int(fact(n) / (fact(k) * fact(n - k)))"
      ],
      "metadata": {
        "id": "XmmfpiV3cESg"
      },
      "execution_count": 2,
      "outputs": []
    },
    {
      "cell_type": "code",
      "source": [
        "def binomial_distr(n, k):\n",
        "  index = fact(n) / (fact(k) * fact(n - k))\n",
        "  res = index * p**k * q**(n - k)\n",
        "  return res"
      ],
      "metadata": {
        "id": "Du2qj4YDdjDB"
      },
      "execution_count": 3,
      "outputs": []
    },
    {
      "cell_type": "code",
      "source": [
        "def poisson(n, m, p):\n",
        "  llambda = n*p\n",
        "  res = (llambda**m / fact(m)) * math.exp(-llambda)\n",
        "  return res"
      ],
      "metadata": {
        "id": "Iz8vWVFFix1E"
      },
      "execution_count": 14,
      "outputs": []
    },
    {
      "cell_type": "markdown",
      "source": [
        "Вероятность того, что стрелок попадет в мишень, выстрелив один раз, равна 0.8. Стрелок выстрелил 100 раз. Найдите вероятность того, что стрелок попадет в цель ровно 85 раз."
      ],
      "metadata": {
        "id": "H9LMpkWnc3dr"
      }
    },
    {
      "cell_type": "code",
      "source": [
        "p, q = 0.8, 0.2\n",
        "binomial_distr(100, 85)"
      ],
      "metadata": {
        "colab": {
          "base_uri": "https://localhost:8080/"
        },
        "id": "R5iOVxH2dwXM",
        "outputId": "c2e28e9c-f39d-4c1d-bd01-6631b0d36119"
      },
      "execution_count": 9,
      "outputs": [
        {
          "output_type": "execute_result",
          "data": {
            "text/plain": [
              "0.048061793700746556"
            ]
          },
          "metadata": {},
          "execution_count": 9
        }
      ]
    },
    {
      "cell_type": "code",
      "source": [
        "sum(np.random.binomial(100, 0.8, 1000000) == 85)/1000000"
      ],
      "metadata": {
        "colab": {
          "base_uri": "https://localhost:8080/"
        },
        "id": "hY0TXc2Lc9XW",
        "outputId": "f8cdb750-a0df-468a-f5d0-813b103807dd"
      },
      "execution_count": 8,
      "outputs": [
        {
          "output_type": "execute_result",
          "data": {
            "text/plain": [
              "0.048208"
            ]
          },
          "metadata": {},
          "execution_count": 8
        }
      ]
    },
    {
      "cell_type": "markdown",
      "source": [
        "Вероятность того, что лампочка перегорит в течение первого дня эксплуатации, равна 0.0004. В жилом комплексе после ремонта в один день включили 5000 новых лампочек. Какова вероятность, что ни одна из них не перегорит в первый день? Какова вероятность, что перегорят ровно две?"
      ],
      "metadata": {
        "id": "aFq7x0ftfeGR"
      }
    },
    {
      "cell_type": "code",
      "source": [
        "poisson(5000, 0, 0.0004)"
      ],
      "metadata": {
        "colab": {
          "base_uri": "https://localhost:8080/"
        },
        "id": "8avAmdcug6l7",
        "outputId": "7c61e2a3-c573-468b-cde2-c8283dbbdccc"
      },
      "execution_count": 15,
      "outputs": [
        {
          "output_type": "execute_result",
          "data": {
            "text/plain": [
              "0.1353352832366127"
            ]
          },
          "metadata": {},
          "execution_count": 15
        }
      ]
    },
    {
      "cell_type": "code",
      "source": [
        "lam = 5000*0.0004\n",
        "sum(np.random.poisson(lam, 100000) == 0)/100000"
      ],
      "metadata": {
        "colab": {
          "base_uri": "https://localhost:8080/"
        },
        "id": "TDeQcmfmmt8_",
        "outputId": "d185d2ed-e368-408b-d0fb-d8b07b146871"
      },
      "execution_count": 20,
      "outputs": [
        {
          "output_type": "execute_result",
          "data": {
            "text/plain": [
              "0.13711"
            ]
          },
          "metadata": {},
          "execution_count": 20
        }
      ]
    },
    {
      "cell_type": "code",
      "source": [
        "poisson(5000, 2, 0.0004)"
      ],
      "metadata": {
        "colab": {
          "base_uri": "https://localhost:8080/"
        },
        "id": "HYrGx_ZflkCY",
        "outputId": "46c1ed35-951a-426b-e351-42f2fee53937"
      },
      "execution_count": 16,
      "outputs": [
        {
          "output_type": "execute_result",
          "data": {
            "text/plain": [
              "0.2706705664732254"
            ]
          },
          "metadata": {},
          "execution_count": 16
        }
      ]
    },
    {
      "cell_type": "code",
      "source": [
        "sum(np.random.poisson(lam, 100000) == 2)/100000"
      ],
      "metadata": {
        "colab": {
          "base_uri": "https://localhost:8080/"
        },
        "id": "8AjWnw0koGEa",
        "outputId": "752b1bcd-d3c3-4748-9e82-575a81e0dde3"
      },
      "execution_count": 21,
      "outputs": [
        {
          "output_type": "execute_result",
          "data": {
            "text/plain": [
              "0.26913"
            ]
          },
          "metadata": {},
          "execution_count": 21
        }
      ]
    },
    {
      "cell_type": "markdown",
      "source": [
        "Монету подбросили 144 раза. Какова вероятность, что орел выпадет ровно 70 раз?"
      ],
      "metadata": {
        "id": "GJsL9fOvfkSn"
      }
    },
    {
      "cell_type": "code",
      "source": [
        "p, q = 0.5, 0.5\n",
        "binomial_distr(144, 70)"
      ],
      "metadata": {
        "colab": {
          "base_uri": "https://localhost:8080/"
        },
        "id": "xNPknNlxgcwF",
        "outputId": "7fb738b9-5af3-4f4d-e5ee-0795a8057f48"
      },
      "execution_count": 10,
      "outputs": [
        {
          "output_type": "execute_result",
          "data": {
            "text/plain": [
              "0.06281178035144776"
            ]
          },
          "metadata": {},
          "execution_count": 10
        }
      ]
    },
    {
      "cell_type": "code",
      "source": [
        "sum(np.random.binomial(144, 0.5, 1000000) == 70)/1000000"
      ],
      "metadata": {
        "colab": {
          "base_uri": "https://localhost:8080/"
        },
        "id": "DgxX12iogod5",
        "outputId": "db316e61-e799-4876-b3b0-457f627b9c66"
      },
      "execution_count": 11,
      "outputs": [
        {
          "output_type": "execute_result",
          "data": {
            "text/plain": [
              "0.063052"
            ]
          },
          "metadata": {},
          "execution_count": 11
        }
      ]
    },
    {
      "cell_type": "markdown",
      "source": [
        "В первом ящике находится 10 мячей, из которых 7 - белые. Во втором ящике - 11 мячей, из которых 9 белых. Из каждого ящика вытаскивают случайным образом по два мяча. Какова вероятность того, что все мячи белые? Какова вероятность того, что ровно два мяча белые? Какова вероятность того, что хотя бы один мяч белый?"
      ],
      "metadata": {
        "id": "p2Zv94Pdfs5Q"
      }
    },
    {
      "cell_type": "code",
      "source": [
        "7/10 * 6/9 * 9/11 * 8/10"
      ],
      "metadata": {
        "colab": {
          "base_uri": "https://localhost:8080/"
        },
        "id": "Z9THsivUp9yE",
        "outputId": "052ffad1-fe3b-4230-8697-c0ab29902c7b"
      },
      "execution_count": 22,
      "outputs": [
        {
          "output_type": "execute_result",
          "data": {
            "text/plain": [
              "0.3054545454545454"
            ]
          },
          "metadata": {},
          "execution_count": 22
        }
      ]
    },
    {
      "cell_type": "code",
      "source": [
        "a1 = combinations(7, 2)\n",
        "b1 = combinations(3, 0)\n",
        "total1 = combinations(10, 2)\n",
        "a2 = combinations(9, 2)\n",
        "b2 = combinations(2, 0)\n",
        "total2 = combinations(11, 2)\n",
        "(a1*b1/total1) * (a2*b2/total2)"
      ],
      "metadata": {
        "colab": {
          "base_uri": "https://localhost:8080/"
        },
        "id": "R-ECHLHwqQB-",
        "outputId": "e24a54e4-197b-4e14-d48f-db3b6bae4d38"
      },
      "execution_count": 23,
      "outputs": [
        {
          "output_type": "execute_result",
          "data": {
            "text/plain": [
              "0.3054545454545455"
            ]
          },
          "metadata": {},
          "execution_count": 23
        }
      ]
    },
    {
      "cell_type": "code",
      "source": [
        "n = 1000000\n",
        "k = 0\n",
        "\n",
        "for i in range(n):\n",
        "  balls1 = list(range(1, 11))\n",
        "  random.shuffle(balls1)\n",
        "  white = 0\n",
        "  for item in range(2):\n",
        "    a = balls1.pop()\n",
        "    if a < 8:\n",
        "      white += 1\n",
        "    else:\n",
        "      break\n",
        "  \n",
        "  balls2 = list(range(1, 12))\n",
        "  random.shuffle(balls2)\n",
        "  for item in range(2):\n",
        "    a = balls2.pop()\n",
        "    if a < 10:\n",
        "      white += 1\n",
        "    else:\n",
        "      break\n",
        "  if white == 4:\n",
        "    k += 1\n",
        "\n",
        "print(f'Probability: {k/n}')"
      ],
      "metadata": {
        "colab": {
          "base_uri": "https://localhost:8080/"
        },
        "id": "SSPG7ESIr_oH",
        "outputId": "26a73c4f-0d88-44f0-8a0c-41cdb0f05771"
      },
      "execution_count": 5,
      "outputs": [
        {
          "output_type": "stream",
          "name": "stdout",
          "text": [
            "Probability: 0.30548\n"
          ]
        }
      ]
    },
    {
      "cell_type": "code",
      "source": [
        "a = 7/10 * 6/9 * 2/11 * 1/10\n",
        "b = 3/10 * 2/9 * 9/11 * 8/10\n",
        "c = (7/10 * 3/9 + 3/10 * 7/9) * (9/11 * 2/10 + 2/11 * 9/10)\n",
        "a + b + c"
      ],
      "metadata": {
        "colab": {
          "base_uri": "https://localhost:8080/"
        },
        "id": "Cv5N_Y6uL0is",
        "outputId": "c331a928-6573-45dd-e792-83bd3532b5cd"
      },
      "execution_count": 9,
      "outputs": [
        {
          "output_type": "execute_result",
          "data": {
            "text/plain": [
              "0.20484848484848484"
            ]
          },
          "metadata": {},
          "execution_count": 9
        }
      ]
    },
    {
      "cell_type": "code",
      "source": [
        "n = 10000000\n",
        "k = 0\n",
        "\n",
        "for i in range(n):\n",
        "  balls1 = list(range(1, 11))\n",
        "  random.shuffle(balls1)\n",
        "  white = 0\n",
        "  for item in range(2):\n",
        "    a = balls1.pop()\n",
        "    if a < 8:\n",
        "      white += 1\n",
        "      \n",
        "  balls2 = list(range(1, 12))\n",
        "  random.shuffle(balls2)\n",
        "  for item in range(2):\n",
        "    a = balls2.pop()\n",
        "    if a < 10:\n",
        "      white += 1\n",
        "    \n",
        "  if white == 2:\n",
        "    k += 1\n",
        "\n",
        "print(f'Probability: {k/n}')"
      ],
      "metadata": {
        "colab": {
          "base_uri": "https://localhost:8080/"
        },
        "id": "csb7F7snMw4k",
        "outputId": "a8d51714-8f3a-48bd-fb85-e26afe9b8909"
      },
      "execution_count": 12,
      "outputs": [
        {
          "output_type": "stream",
          "name": "stdout",
          "text": [
            "Probability: 0.2046505\n"
          ]
        }
      ]
    },
    {
      "cell_type": "code",
      "source": [
        "1 - (3/10 * 2/9 * 2/11 * 1/10)"
      ],
      "metadata": {
        "colab": {
          "base_uri": "https://localhost:8080/"
        },
        "id": "A8IhlbeXFWDH",
        "outputId": "9e1e3010-4734-4374-8d62-202594a73945"
      },
      "execution_count": 4,
      "outputs": [
        {
          "output_type": "execute_result",
          "data": {
            "text/plain": [
              "0.9987878787878788"
            ]
          },
          "metadata": {},
          "execution_count": 4
        }
      ]
    },
    {
      "cell_type": "code",
      "source": [
        "n = 1000000\n",
        "k = 0\n",
        "\n",
        "for i in range(n):\n",
        "  balls1 = list(range(1, 11))\n",
        "  random.shuffle(balls1)\n",
        "  white = 0\n",
        "  for item in range(2):\n",
        "    a = balls1.pop()\n",
        "    if a < 8:\n",
        "      white += 1\n",
        "     \n",
        "  balls2 = list(range(1, 12))\n",
        "  random.shuffle(balls2)\n",
        "  for item in range(2):\n",
        "    a = balls2.pop()\n",
        "    if a < 10:\n",
        "      white += 1\n",
        "   \n",
        "  if white >= 1:\n",
        "    k += 1\n",
        "\n",
        "print(f'Probability: {k/n}')"
      ],
      "metadata": {
        "colab": {
          "base_uri": "https://localhost:8080/"
        },
        "id": "xAlyPqhmGLGu",
        "outputId": "13a1b5d9-b247-4eb7-9725-f1ec54438e10"
      },
      "execution_count": 8,
      "outputs": [
        {
          "output_type": "stream",
          "name": "stdout",
          "text": [
            "Probability: 0.998774\n"
          ]
        }
      ]
    }
  ]
}