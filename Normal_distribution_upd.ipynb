{
  "nbformat": 4,
  "nbformat_minor": 0,
  "metadata": {
    "colab": {
      "name": "Normal_distribution-upd.ipynb",
      "provenance": [],
      "collapsed_sections": [],
      "authorship_tag": "ABX9TyMrHzVWknFGKskB1V48SDzp",
      "include_colab_link": true
    },
    "kernelspec": {
      "name": "python3",
      "display_name": "Python 3"
    },
    "language_info": {
      "name": "python"
    }
  },
  "cells": [
    {
      "cell_type": "markdown",
      "metadata": {
        "id": "view-in-github",
        "colab_type": "text"
      },
      "source": [
        "<a href=\"https://colab.research.google.com/github/alina-bogdanovskaya/Probability_Statistics_Dec-2021/blob/lesson4/Normal_distribution_upd.ipynb\" target=\"_parent\"><img src=\"https://colab.research.google.com/assets/colab-badge.svg\" alt=\"Open In Colab\"/></a>"
      ]
    },
    {
      "cell_type": "code",
      "execution_count": null,
      "metadata": {
        "id": "vzwJOTuO5LqS"
      },
      "outputs": [],
      "source": [
        "%matplotlib inline\n",
        "import math\n",
        "import numpy as np\n",
        "import matplotlib.pyplot as plt\n",
        "from scipy.stats import norm\n",
        "import statistics"
      ]
    },
    {
      "cell_type": "markdown",
      "source": [
        "Случайная непрерывная величина A имеет равномерное распределение на промежутке (200, 800].\n",
        "Найдите ее среднее значение и дисперсию."
      ],
      "metadata": {
        "id": "3JRldIUVS2Ui"
      }
    },
    {
      "cell_type": "code",
      "source": [
        "m = (200 + 800) / 2\n",
        "d = (800 - 200)**2 / 12\n",
        "\n",
        "print (f'M(X) = {m}')\n",
        "print (f'D(X) = {d}')"
      ],
      "metadata": {
        "colab": {
          "base_uri": "https://localhost:8080/"
        },
        "id": "C79zvx5NaPsl",
        "outputId": "e56bad0e-8da9-469d-ca83-6e7bf9a294f8"
      },
      "execution_count": null,
      "outputs": [
        {
          "output_type": "stream",
          "name": "stdout",
          "text": [
            "M(X) = 500.0\n",
            "D(X) = 30000.0\n"
          ]
        }
      ]
    },
    {
      "cell_type": "markdown",
      "source": [
        "О случайной непрерывной равномерно распределенной величине B известно, что ее дисперсия равна 0.2.\n",
        "Можно ли найти правую границу величины B и ее среднее значение зная, что левая граница равна 0.5?\n",
        "Если да, найдите ее"
      ],
      "metadata": {
        "id": "AWPeUY9yS4Hw"
      }
    },
    {
      "cell_type": "markdown",
      "source": [
        "D(X) = 0.2\n",
        "\n",
        "(x - 0.5)**2 / 12 = 0.2\n",
        "\n",
        "(x - 0.5)**2 = 2.4\n",
        "\n",
        "x - 0.5 = sqrt[2.4]\n",
        "\n",
        "x = sqrt[2.4] + 0.5\n",
        "\n",
        "M(X) = (sqrt[2.4] + 1) / 2"
      ],
      "metadata": {
        "id": "JZk4QnvFa--L"
      }
    },
    {
      "cell_type": "code",
      "source": [
        "x = math.sqrt(2.4) + 0.5\n",
        "m = (x + 0.5) / 2\n",
        "\n",
        "print(f'x = {x}')\n",
        "print(f'M(X) = {m}')"
      ],
      "metadata": {
        "colab": {
          "base_uri": "https://localhost:8080/"
        },
        "id": "mn_3DC2Ra7m8",
        "outputId": "ebb9c524-7417-4c35-ca3e-0b568c7a18be"
      },
      "execution_count": null,
      "outputs": [
        {
          "output_type": "stream",
          "name": "stdout",
          "text": [
            "x = 2.049193338482967\n",
            "M(X) = 1.2745966692414834\n"
          ]
        }
      ]
    },
    {
      "cell_type": "markdown",
      "source": [
        "Непрерывная случайная величина X распределена нормально и задана плотностью распределения\n",
        "f(x) = (1 / (4 * sqrt(2*pi))) * (exp(-(x+2)**2) / 32).\n",
        "Найдите:\n",
        "1.   M(X) = -2\n",
        "2.   D(X) = 16\n",
        "3.   std(X) = 4\n",
        "\n",
        "\n",
        "\n"
      ],
      "metadata": {
        "id": "V70MfK9FS8nX"
      }
    },
    {
      "cell_type": "markdown",
      "source": [
        "Рост взрослого населения города X имеет нормальное распределение.\n",
        "Причем, средний рост равен 174 см, а среднее квадратичное отклонение равно 8 см.\n",
        "Какова вероятность того, что случайным образом выбранный взрослый человек имеет рост:\n",
        "\n",
        "1.   больше 182 см -- 16%\n",
        "2.   больше 190 см -- 2.3%\n",
        "3.   от 166 см до 190 см -- 81.7%\n",
        "4.   от 166 см до 182 см -- 68%\n",
        "5.   от 158 см до 190 см -- 95.4%\n",
        "6.   не выше 150 см или не ниже 190 см -- 2.45%\n",
        "7.   не выше 150 см или не ниже 198 см -- 0.3%\n",
        "8.   ниже 166 см -- 16%\n",
        "\n"
      ],
      "metadata": {
        "id": "A4PIJUVDTsDB"
      }
    },
    {
      "cell_type": "code",
      "source": [
        "(100 - 68) / 2"
      ],
      "metadata": {
        "colab": {
          "base_uri": "https://localhost:8080/"
        },
        "id": "L2jaPFu_eVWK",
        "outputId": "7fde59fa-f2fa-463d-e47d-0dfda6343f8f"
      },
      "execution_count": null,
      "outputs": [
        {
          "output_type": "execute_result",
          "data": {
            "text/plain": [
              "16.0"
            ]
          },
          "metadata": {},
          "execution_count": 43
        }
      ]
    },
    {
      "cell_type": "code",
      "source": [
        "(100 - 95.4) / 2"
      ],
      "metadata": {
        "colab": {
          "base_uri": "https://localhost:8080/"
        },
        "id": "-imC_fH_enue",
        "outputId": "393fb5de-6e7a-48cd-fe2c-1c9250a06041"
      },
      "execution_count": null,
      "outputs": [
        {
          "output_type": "execute_result",
          "data": {
            "text/plain": [
              "2.299999999999997"
            ]
          },
          "metadata": {},
          "execution_count": 44
        }
      ]
    },
    {
      "cell_type": "code",
      "source": [
        "((95.4 - 68) / 2) + 68"
      ],
      "metadata": {
        "colab": {
          "base_uri": "https://localhost:8080/"
        },
        "id": "8qZ0g9ZIfmfP",
        "outputId": "586d6794-c77b-4f28-9d65-27173e42b764"
      },
      "execution_count": null,
      "outputs": [
        {
          "output_type": "execute_result",
          "data": {
            "text/plain": [
              "81.7"
            ]
          },
          "metadata": {},
          "execution_count": 49
        }
      ]
    },
    {
      "cell_type": "code",
      "source": [
        "(100 - 99.7) / 2 + (100 - 95.4) / 2"
      ],
      "metadata": {
        "colab": {
          "base_uri": "https://localhost:8080/"
        },
        "id": "sJ6GYqbhisX4",
        "outputId": "fb4129d3-ad3c-40f2-d5ff-4e83af5e8033"
      },
      "execution_count": null,
      "outputs": [
        {
          "output_type": "execute_result",
          "data": {
            "text/plain": [
              "2.4499999999999957"
            ]
          },
          "metadata": {},
          "execution_count": 58
        }
      ]
    },
    {
      "cell_type": "code",
      "source": [
        "100 - 99.7"
      ],
      "metadata": {
        "colab": {
          "base_uri": "https://localhost:8080/"
        },
        "id": "PxVcLmyoj-xF",
        "outputId": "71842798-19b1-4374-e8ec-2865d5efcc02"
      },
      "execution_count": null,
      "outputs": [
        {
          "output_type": "execute_result",
          "data": {
            "text/plain": [
              "0.29999999999999716"
            ]
          },
          "metadata": {},
          "execution_count": 61
        }
      ]
    },
    {
      "cell_type": "code",
      "source": [
        "(100 - 68) / 2"
      ],
      "metadata": {
        "colab": {
          "base_uri": "https://localhost:8080/"
        },
        "id": "adFgXQ2pk61X",
        "outputId": "83892099-fcfd-40b1-f378-55026a7cd11b"
      },
      "execution_count": null,
      "outputs": [
        {
          "output_type": "execute_result",
          "data": {
            "text/plain": [
              "16.0"
            ]
          },
          "metadata": {},
          "execution_count": 62
        }
      ]
    },
    {
      "cell_type": "code",
      "source": [
        "x_axis = np.arange(148, 200, 0.01)\n",
        "\n",
        "plt.rcParams[\"figure.figsize\"] = [15, 7.50]\n",
        "ax = plt.figure().add_subplot(1, 1, 1)\n",
        "\n",
        "major_ticks_x = np.arange(150, 200, 8)\n",
        "minor_ticks_x = np.arange(148, 200, 1)\n",
        "major_ticks_y = np.arange(-0, 0.06, 0.01)\n",
        "\n",
        "ax.set_xticks(major_ticks_x)\n",
        "ax.set_xticks(minor_ticks_x, minor=True)\n",
        "ax.set_yticks(major_ticks_y)\n",
        "\n",
        "ax.grid(which='both')\n",
        "ax.grid(which='minor', alpha=0.2)\n",
        "ax.grid(which='major', alpha=0.5)\n",
        "  \n",
        "mean = 174\n",
        "sd = 8\n",
        "  \n",
        "plt.plot(x_axis, norm.pdf(x_axis, mean, sd))\n",
        "plt.axvline(x = 174, color = 'r', ls = '-', lw = 0.75)\n",
        "plt.ylim(0, 0.06)\n",
        "plt.xlim(148, 200)\n",
        "\n",
        "def label(x1, x2, y, text):\n",
        "  plt.vlines(x = x1, ymin = 0, ymax = y, color = 'g', ls = '--', lw = 0.75)\n",
        "  plt.vlines(x = x2, ymin = 0, ymax = y, color = 'g', ls = '--', lw = 0.75)\n",
        "  plt.hlines(y = y, xmin = x1, xmax = x2, color = 'b', ls = '--', lw = 0.75)\n",
        "  plt.text(x = (x1 + (x2-x1)/2), y = y, s = text)\n",
        "\n",
        "label(182, 200, 0.02, '16%')\n",
        "label(190, 200, 0.004, '2.3%')\n",
        "label(166, 190, 0.01, '81.7%')\n",
        "label(166, 182, 0.03, '68%')\n",
        "label(158, 190, 0.007, '95.4%')\n",
        "label(148, 150, 0.01, '0.15%')\n",
        "label(198, 200, 0.01, '0.15%')\n",
        "label(148, 166, 0.02, '16%')"
      ],
      "metadata": {
        "colab": {
          "base_uri": "https://localhost:8080/",
          "height": 456
        },
        "id": "ak7BQNjS6WSj",
        "outputId": "85be5326-9123-431f-acd1-13cf441a1f72"
      },
      "execution_count": null,
      "outputs": [
        {
          "output_type": "display_data",
          "data": {
            "image/png": "[encoded data removed]",
            "text/plain": [
              "<Figure size 1080x540 with 1 Axes>"
            ]
          },
          "metadata": {
            "needs_background": "light"
          }
        }
      ]
    },
    {
      "cell_type": "markdown",
      "source": [
        "На сколько сигм (средних квадратичных отклонений) отклоняется рост человека, равный 190 см, от\n",
        "математического ожидания роста в популяции, в которой M(X) = 178 см и D(X) = 25 кв.см?"
      ],
      "metadata": {
        "id": "b3vgr4XMT-uS"
      }
    },
    {
      "cell_type": "code",
      "source": [
        "(190 - 178) / 5 "
      ],
      "metadata": {
        "colab": {
          "base_uri": "https://localhost:8080/"
        },
        "id": "E9wLxlfF99XI",
        "outputId": "7b3e62ef-cb1d-49cd-b8a1-1b6e11cb5314"
      },
      "execution_count": null,
      "outputs": [
        {
          "output_type": "execute_result",
          "data": {
            "text/plain": [
              "2.4"
            ]
          },
          "metadata": {},
          "execution_count": 2
        }
      ]
    }
  ]
}