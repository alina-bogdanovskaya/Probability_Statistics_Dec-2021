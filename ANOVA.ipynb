{
  "nbformat": 4,
  "nbformat_minor": 0,
  "metadata": {
    "colab": {
      "name": "ANOVA.ipynb",
      "provenance": [],
      "collapsed_sections": [],
      "authorship_tag": "ABX9TyNPMYTU/hBvAoa4fWzNx/D1",
      "include_colab_link": true
    },
    "kernelspec": {
      "name": "python3",
      "display_name": "Python 3"
    },
    "language_info": {
      "name": "python"
    }
  },
  "cells": [
    {
      "cell_type": "markdown",
      "metadata": {
        "id": "view-in-github",
        "colab_type": "text"
      },
      "source": [
        "<a href=\"https://colab.research.google.com/github/alina-bogdanovskaya/Probability_Statistics_Dec-2021/blob/lesson8/ANOVA.ipynb\" target=\"_parent\"><img src=\"https://colab.research.google.com/assets/colab-badge.svg\" alt=\"Open In Colab\"/></a>"
      ]
    },
    {
      "cell_type": "code",
      "execution_count": 1,
      "metadata": {
        "id": "T9y8_i7TLegg"
      },
      "outputs": [],
      "source": [
        "%matplotlib inline\n",
        "import numpy as np\n",
        "from scipy import stats"
      ]
    },
    {
      "cell_type": "markdown",
      "source": [
        "Провести дисперсионный анализ для определения того, есть ли различия среднего роста среди взрослых футболистов, хоккеистов и штангистов. Даны значения роста в трех группах случайно выбранных спортсменов: Футболисты: 173, 175, 180, 178, 177, 185, 183, 182. Хоккеисты: 177, 179, 180, 188, 177, 172, 171, 184, 180. Штангисты: 172, 173, 169, 177, 166, 180, 178, 177, 172, 166, 170."
      ],
      "metadata": {
        "id": "JKltlBvsLkcL"
      }
    },
    {
      "cell_type": "markdown",
      "source": [
        "H0: μ1 = μ2 = μ3\n",
        "\n",
        "H1: μ1 $\\neq$ μ2 $\\neq$ μ3"
      ],
      "metadata": {
        "id": "juWhCy9ukr-F"
      }
    },
    {
      "cell_type": "code",
      "source": [
        "f = np.array([173, 175, 180, 178, 177, 185, 183, 182])\n",
        "h = np.array([177, 179, 180, 188, 177, 172, 171, 184, 180])\n",
        "w = np.array([172, 173, 169, 177, 166, 180, 178, 177, 172, 166, 170])"
      ],
      "metadata": {
        "id": "-jWTr6o9L1by"
      },
      "execution_count": 2,
      "outputs": []
    },
    {
      "cell_type": "code",
      "source": [
        "stats.f_oneway(f, h, w)"
      ],
      "metadata": {
        "colab": {
          "base_uri": "https://localhost:8080/"
        },
        "id": "P2biGIwMiiRM",
        "outputId": "4577c8de-424a-473e-ba2a-f7cfe9f27f20"
      },
      "execution_count": 3,
      "outputs": [
        {
          "output_type": "execute_result",
          "data": {
            "text/plain": [
              "F_onewayResult(statistic=5.500053450812596, pvalue=0.010482206918698694)"
            ]
          },
          "metadata": {},
          "execution_count": 3
        }
      ]
    },
    {
      "cell_type": "markdown",
      "source": [
        "α = 0.05 \n",
        "\n",
        "0.05 > 0.0105, следовательно верна гипотеза H1, и различие между группами статистически значимо "
      ],
      "metadata": {
        "id": "n5i8uddukPpC"
      }
    },
    {
      "cell_type": "markdown",
      "source": [
        "α = 0.01\n",
        "\n",
        "0.01 < 0.0105, следовательно верна гипотеза H0, и не существует статистически значимого различия между группами"
      ],
      "metadata": {
        "id": "hVeDucMJmiHe"
      }
    },
    {
      "cell_type": "code",
      "source": [
        "k = 3\n",
        "\n",
        "n1 = f.size\n",
        "n2 = h.size\n",
        "n3 = w.size\n",
        "\n",
        "n = n1 + n2 + n3"
      ],
      "metadata": {
        "id": "Tj2i0UnXManW"
      },
      "execution_count": 4,
      "outputs": []
    },
    {
      "cell_type": "code",
      "source": [
        "f_mean = np.mean(f)\n",
        "f_mean"
      ],
      "metadata": {
        "colab": {
          "base_uri": "https://localhost:8080/"
        },
        "id": "7yV_Pkb1M5eF",
        "outputId": "26eafedc-6828-44c2-cc43-8d99bd118959"
      },
      "execution_count": 5,
      "outputs": [
        {
          "output_type": "execute_result",
          "data": {
            "text/plain": [
              "179.125"
            ]
          },
          "metadata": {},
          "execution_count": 5
        }
      ]
    },
    {
      "cell_type": "code",
      "source": [
        "h_mean = np.mean(h)\n",
        "h_mean"
      ],
      "metadata": {
        "colab": {
          "base_uri": "https://localhost:8080/"
        },
        "id": "uRveUU6zOHuG",
        "outputId": "00685a36-58f8-40e2-c1d4-c4f42debd950"
      },
      "execution_count": 6,
      "outputs": [
        {
          "output_type": "execute_result",
          "data": {
            "text/plain": [
              "178.66666666666666"
            ]
          },
          "metadata": {},
          "execution_count": 6
        }
      ]
    },
    {
      "cell_type": "code",
      "source": [
        "w_mean = np.mean(w)\n",
        "w_mean"
      ],
      "metadata": {
        "colab": {
          "base_uri": "https://localhost:8080/"
        },
        "id": "pLkw6KOLOSbF",
        "outputId": "6c7a863c-9d1b-44a1-de1b-ae7d4ccc4da2"
      },
      "execution_count": 7,
      "outputs": [
        {
          "output_type": "execute_result",
          "data": {
            "text/plain": [
              "172.72727272727272"
            ]
          },
          "metadata": {},
          "execution_count": 7
        }
      ]
    },
    {
      "cell_type": "code",
      "source": [
        "total = np.concatenate([f, h, w])\n",
        "total_mean = np.mean(total)\n",
        "total_mean"
      ],
      "metadata": {
        "colab": {
          "base_uri": "https://localhost:8080/"
        },
        "id": "MNY0yzaBZqCI",
        "outputId": "85a98d92-470e-4259-c823-61b1f2722075"
      },
      "execution_count": 8,
      "outputs": [
        {
          "output_type": "execute_result",
          "data": {
            "text/plain": [
              "176.46428571428572"
            ]
          },
          "metadata": {},
          "execution_count": 8
        }
      ]
    },
    {
      "cell_type": "code",
      "source": [
        "S_F = ((f_mean - total_mean)**2) * n1 + ((h_mean - total_mean)**2) * n2 + ((w_mean - total_mean)**2) * n3\n",
        "S_F"
      ],
      "metadata": {
        "colab": {
          "base_uri": "https://localhost:8080/"
        },
        "id": "jY-a7gwzXWxp",
        "outputId": "c9fa2069-411b-4d4f-c078-3d23e5a57a81"
      },
      "execution_count": 9,
      "outputs": [
        {
          "output_type": "execute_result",
          "data": {
            "text/plain": [
              "253.9074675324678"
            ]
          },
          "metadata": {},
          "execution_count": 9
        }
      ]
    },
    {
      "cell_type": "code",
      "source": [
        "S_r = ((f - f_mean)**2).sum() + ((h - h_mean)**2).sum() + ((w - w_mean)**2).sum()\n",
        "S_r"
      ],
      "metadata": {
        "colab": {
          "base_uri": "https://localhost:8080/"
        },
        "id": "NyEbIrCldzKf",
        "outputId": "497fa1db-983a-4196-c58b-c16b64cce35d"
      },
      "execution_count": 10,
      "outputs": [
        {
          "output_type": "execute_result",
          "data": {
            "text/plain": [
              "577.0568181818182"
            ]
          },
          "metadata": {},
          "execution_count": 10
        }
      ]
    },
    {
      "cell_type": "code",
      "source": [
        "S = ((total - total_mean)**2).sum()\n",
        "S"
      ],
      "metadata": {
        "colab": {
          "base_uri": "https://localhost:8080/"
        },
        "id": "_2ZqbSEubItv",
        "outputId": "f4182d80-cb17-436f-af39-327a27570d65"
      },
      "execution_count": 11,
      "outputs": [
        {
          "output_type": "execute_result",
          "data": {
            "text/plain": [
              "830.9642857142854"
            ]
          },
          "metadata": {},
          "execution_count": 11
        }
      ]
    },
    {
      "cell_type": "code",
      "source": [
        "S_F + S_r"
      ],
      "metadata": {
        "colab": {
          "base_uri": "https://localhost:8080/"
        },
        "id": "jUYEuGqeLHx-",
        "outputId": "3399b1da-4256-4c5d-808e-094dfc318fa3"
      },
      "execution_count": 13,
      "outputs": [
        {
          "output_type": "execute_result",
          "data": {
            "text/plain": [
              "830.964285714286"
            ]
          },
          "metadata": {},
          "execution_count": 13
        }
      ]
    },
    {
      "cell_type": "code",
      "source": [
        "var_F = S_F/(k-1)\n",
        "var_F"
      ],
      "metadata": {
        "colab": {
          "base_uri": "https://localhost:8080/"
        },
        "id": "AYIyWf-Ue-DD",
        "outputId": "2bed757c-5f6d-4496-aa00-156c3d920a6d"
      },
      "execution_count": 14,
      "outputs": [
        {
          "output_type": "execute_result",
          "data": {
            "text/plain": [
              "126.9537337662339"
            ]
          },
          "metadata": {},
          "execution_count": 14
        }
      ]
    },
    {
      "cell_type": "code",
      "source": [
        "var_r = S_r/(n-k)\n",
        "var_r"
      ],
      "metadata": {
        "colab": {
          "base_uri": "https://localhost:8080/"
        },
        "id": "W8Yd72fcfJhm",
        "outputId": "8210768d-ee55-434b-db88-c956b655b47c"
      },
      "execution_count": 15,
      "outputs": [
        {
          "output_type": "execute_result",
          "data": {
            "text/plain": [
              "23.08227272727273"
            ]
          },
          "metadata": {},
          "execution_count": 15
        }
      ]
    },
    {
      "cell_type": "code",
      "source": [
        "F_с = var_F/var_r\n",
        "F_с"
      ],
      "metadata": {
        "colab": {
          "base_uri": "https://localhost:8080/"
        },
        "id": "99-nnxFHfXFB",
        "outputId": "699d142e-db5c-4cff-ecef-51ccdf3c30d9"
      },
      "execution_count": 16,
      "outputs": [
        {
          "output_type": "execute_result",
          "data": {
            "text/plain": [
              "5.500053450812598"
            ]
          },
          "metadata": {},
          "execution_count": 16
        }
      ]
    },
    {
      "cell_type": "markdown",
      "source": [
        "α = 0.05 => F = 3.39\n",
        "\n",
        "5.5 > 3.39, следовательно различие между группами статистически значимо"
      ],
      "metadata": {
        "id": "RjRsW8K6iTTe"
      }
    },
    {
      "cell_type": "markdown",
      "source": [
        "α = 0.01 => F = 5.57\n",
        "\n",
        "5.5 < 5.57, следовательно верна гипотеза Н0, и статистически значимого различия между группами не существует \n"
      ],
      "metadata": {
        "id": "mRqyFiEiLhF9"
      }
    }
  ]
}