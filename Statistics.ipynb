{
  "nbformat": 4,
  "nbformat_minor": 0,
  "metadata": {
    "colab": {
      "name": "Statistics.ipynb",
      "provenance": [],
      "collapsed_sections": [],
      "authorship_tag": "ABX9TyP0TWrrIzsLxHfdpFq8BYyk",
      "include_colab_link": true
    },
    "kernelspec": {
      "name": "python3",
      "display_name": "Python 3"
    },
    "language_info": {
      "name": "python"
    }
  },
  "cells": [
    {
      "cell_type": "markdown",
      "metadata": {
        "id": "view-in-github",
        "colab_type": "text"
      },
      "source": [
        "<a href=\"https://colab.research.google.com/github/alina-bogdanovskaya/Probability_Statistics_Dec-2021/blob/lesson3/Statistics.ipynb\" target=\"_parent\"><img src=\"https://colab.research.google.com/assets/colab-badge.svg\" alt=\"Open In Colab\"/></a>"
      ]
    },
    {
      "cell_type": "code",
      "execution_count": 46,
      "metadata": {
        "id": "soHGRIpjDfeo"
      },
      "outputs": [],
      "source": [
        "%matplotlib inline\n",
        "import random\n",
        "import math\n",
        "from math import factorial as fact\n",
        "import numpy as np"
      ]
    },
    {
      "cell_type": "markdown",
      "source": [
        "Даны значения зарплат из выборки выпускников: 100, 80, 75, 77, 89, 33, 45, 25, 65, 17, 30, 24, 57, 55, 70, 75, 65, 84, 90, 150. Посчитать (желательно без использования статистических методов наподобие std, var, mean) среднее арифметическое, среднее квадратичное отклонение, смещенную и несмещенную оценки дисперсий для данной выборки."
      ],
      "metadata": {
        "id": "QPXnlH5hDo7T"
      }
    },
    {
      "cell_type": "code",
      "source": [
        "salary = np.array([100, 80, 75, 77, 89, 33, 45, 25, 65, 17, 30, 24, 57, 55, 70, 75, 65, 84, 90, 150])\n",
        "n = salary.shape[0]\n",
        "salary.sort\n",
        "mean_sal = np.sum(salary)/n\n",
        "mean_sal"
      ],
      "metadata": {
        "colab": {
          "base_uri": "https://localhost:8080/"
        },
        "id": "0qS4YWhLEEJk",
        "outputId": "40fa5711-145b-4046-e47a-9f26a4a16f4d"
      },
      "execution_count": 20,
      "outputs": [
        {
          "output_type": "stream",
          "name": "stdout",
          "text": [
            "65.3\n"
          ]
        },
        {
          "output_type": "execute_result",
          "data": {
            "text/plain": [
              "4.263256414560601e-14"
            ]
          },
          "metadata": {},
          "execution_count": 20
        }
      ]
    },
    {
      "cell_type": "code",
      "source": [
        "k = 0\n",
        "for i in salary:\n",
        "  k += (i - mean_sal)**2\n",
        "\n",
        "variance_biased = k/n  \n",
        "variance = k/(n-1)\n",
        "print(variance_biased, variance)"
      ],
      "metadata": {
        "colab": {
          "base_uri": "https://localhost:8080/"
        },
        "id": "8B0IpREqaNPB",
        "outputId": "124baf8e-9b68-442a-cde3-56d49f99cc12"
      },
      "execution_count": 26,
      "outputs": [
        {
          "output_type": "stream",
          "name": "stdout",
          "text": [
            "950.11 1000.1157894736842\n"
          ]
        }
      ]
    },
    {
      "cell_type": "code",
      "source": [
        "std_dev = math.sqrt(variance)\n",
        "std_dev"
      ],
      "metadata": {
        "colab": {
          "base_uri": "https://localhost:8080/"
        },
        "id": "JY_RMcBefA17",
        "outputId": "bd6edbed-821a-4466-cc35-f364ece1b347"
      },
      "execution_count": 29,
      "outputs": [
        {
          "output_type": "execute_result",
          "data": {
            "text/plain": [
              "31.624607341019814"
            ]
          },
          "metadata": {},
          "execution_count": 29
        }
      ]
    },
    {
      "cell_type": "code",
      "source": [
        "np.mean(salary)"
      ],
      "metadata": {
        "colab": {
          "base_uri": "https://localhost:8080/"
        },
        "id": "teN8aoIadgoR",
        "outputId": "629029c0-6932-4b22-b7b0-3d0b25c7e568"
      },
      "execution_count": 23,
      "outputs": [
        {
          "output_type": "execute_result",
          "data": {
            "text/plain": [
              "65.3"
            ]
          },
          "metadata": {},
          "execution_count": 23
        }
      ]
    },
    {
      "cell_type": "code",
      "source": [
        "np.var(salary)"
      ],
      "metadata": {
        "colab": {
          "base_uri": "https://localhost:8080/"
        },
        "id": "iLCWOhjqdpSm",
        "outputId": "45a0733c-4dda-4561-aef7-215f213bcb69"
      },
      "execution_count": 24,
      "outputs": [
        {
          "output_type": "execute_result",
          "data": {
            "text/plain": [
              "950.11"
            ]
          },
          "metadata": {},
          "execution_count": 24
        }
      ]
    },
    {
      "cell_type": "code",
      "source": [
        "np.var(salary, ddof = 1)"
      ],
      "metadata": {
        "colab": {
          "base_uri": "https://localhost:8080/"
        },
        "id": "4rgcj23Hd3f5",
        "outputId": "8b43afee-4aba-45fa-bf32-ac2b9e08eed1"
      },
      "execution_count": 25,
      "outputs": [
        {
          "output_type": "execute_result",
          "data": {
            "text/plain": [
              "1000.1157894736842"
            ]
          },
          "metadata": {},
          "execution_count": 25
        }
      ]
    },
    {
      "cell_type": "code",
      "source": [
        "np.std(salary, ddof = 1)"
      ],
      "metadata": {
        "colab": {
          "base_uri": "https://localhost:8080/"
        },
        "id": "DjTYdUycfYVc",
        "outputId": "c97f869c-7daa-4e64-acfb-220cf395f405"
      },
      "execution_count": 30,
      "outputs": [
        {
          "output_type": "execute_result",
          "data": {
            "text/plain": [
              "31.624607341019814"
            ]
          },
          "metadata": {},
          "execution_count": 30
        }
      ]
    },
    {
      "cell_type": "markdown",
      "source": [
        "В первом ящике находится 8 мячей, из которых 5 - белые. Во втором ящике - 12 мячей, из которых 5 белых. Из первого ящика вытаскивают случайным образом два мяча, из второго - 4. Какова вероятность того, что 3 мяча белые?"
      ],
      "metadata": {
        "id": "UNh_0jFEDpQ7"
      }
    },
    {
      "cell_type": "code",
      "source": [
        "def comb(n, k):\n",
        "    return int(fact(n) / (fact(k) * fact(n - k)))"
      ],
      "metadata": {
        "id": "i2e5LykITGjr"
      },
      "execution_count": 9,
      "outputs": []
    },
    {
      "cell_type": "code",
      "source": [
        "p1 = (comb(5, 2)/comb(8, 2)) * (comb(5, 1)*comb(7, 3)/comb(12, 4))\n",
        "p2 = (comb(5, 1)*comb(3, 1)/comb(8, 2)) * (comb(5, 2)*comb(7, 2)/comb(12, 4))\n",
        "p3 = (comb(3, 2)/comb(8, 2)) * (comb(5, 3)*comb(7, 1)/comb(12, 4))\n",
        "p = p1 + p2 + p3\n",
        "p"
      ],
      "metadata": {
        "colab": {
          "base_uri": "https://localhost:8080/"
        },
        "id": "MCgKxTJiTIQM",
        "outputId": "e75221e7-2e7f-4fe5-d666-b77eb175402a"
      },
      "execution_count": 10,
      "outputs": [
        {
          "output_type": "execute_result",
          "data": {
            "text/plain": [
              "0.3686868686868687"
            ]
          },
          "metadata": {},
          "execution_count": 10
        }
      ]
    },
    {
      "cell_type": "code",
      "source": [
        "n = 1000000\n",
        "k = 0\n",
        "\n",
        "for i in range(n):\n",
        "  balls1 = list(range(1, 9))\n",
        "  random.shuffle(balls1)\n",
        "  white = 0\n",
        "  for item in range(2):\n",
        "    a = balls1.pop()\n",
        "    if a < 6:\n",
        "      white += 1\n",
        "      \n",
        "  balls2 = list(range(1, 13))\n",
        "  random.shuffle(balls2)\n",
        "  for item in range(4):\n",
        "    a = balls2.pop()\n",
        "    if a < 6:\n",
        "      white += 1\n",
        "    \n",
        "  if white == 3:\n",
        "    k += 1\n",
        "\n",
        "print(f'Probability: {k/n}')"
      ],
      "metadata": {
        "colab": {
          "base_uri": "https://localhost:8080/"
        },
        "id": "THKtfMVbGvbj",
        "outputId": "8013e6ef-0010-49f7-f559-d924ba0c22d3"
      },
      "execution_count": 7,
      "outputs": [
        {
          "output_type": "stream",
          "name": "stdout",
          "text": [
            "Probability: 0.368917\n"
          ]
        }
      ]
    },
    {
      "cell_type": "markdown",
      "source": [
        "На соревновании по биатлону один из трех спортсменов стреляет и попадает в мишень. Вероятность попадания для первого спортсмена равна 0.9, для второго — 0.8, для третьего — 0.6. Найти вероятность того, что выстрел произведен: a). первым спортсменом б). вторым спортсменом в). третьим спортсменом."
      ],
      "metadata": {
        "id": "OXYXRMitDpqY"
      }
    },
    {
      "cell_type": "code",
      "source": [
        "a = 1/3 * 0.9 + 1/3 * 0.8 + 1/3 * 0.6\n",
        "b1 = (1/3 * 0.9)/a\n",
        "b2 = (1/3 * 0.8)/a\n",
        "b3 = (1/3 * 0.6)/a\n",
        "print(a)\n",
        "print(b1)\n",
        "print(b2)\n",
        "print(b3)"
      ],
      "metadata": {
        "colab": {
          "base_uri": "https://localhost:8080/"
        },
        "id": "LTTC5-XRHFNO",
        "outputId": "25e48714-0199-4b5b-b941-ded1b9c157fa"
      },
      "execution_count": 40,
      "outputs": [
        {
          "output_type": "stream",
          "name": "stdout",
          "text": [
            "0.7666666666666666\n",
            "0.391304347826087\n",
            "0.3478260869565218\n",
            "0.2608695652173913\n"
          ]
        }
      ]
    },
    {
      "cell_type": "code",
      "source": [
        "n = 10000000\n",
        "\n",
        "prob = [0.9, 0.8, 0.6]\n",
        "hits = [0, 0, 0]\n",
        "\n",
        "for i in range(n):\n",
        "  j = random.randrange(0, 3)\n",
        "  hit = random.random() < prob[j]\n",
        "  if hit == True: \n",
        "    hits[j] += 1\n",
        "\n",
        "a = np.sum(hits)\n",
        "\n",
        "for j in hits:\n",
        "   print(j/a)"
      ],
      "metadata": {
        "colab": {
          "base_uri": "https://localhost:8080/"
        },
        "id": "k2M_b0M4jIq_",
        "outputId": "254c6a81-8e80-4442-a74c-d3539409be92"
      },
      "execution_count": 44,
      "outputs": [
        {
          "output_type": "stream",
          "name": "stdout",
          "text": [
            "0.39150841943983267\n",
            "0.34779356456712496\n",
            "0.2606980159930424\n"
          ]
        }
      ]
    },
    {
      "cell_type": "markdown",
      "source": [
        "В университет на факультеты A и B поступило равное количество студентов, а на факультет C студентов поступило столько же, сколько на A и B вместе. Вероятность того, что студент факультета A сдаст первую сессию, равна 0.8. Для студента факультета B эта вероятность равна 0.7, а для студента факультета C - 0.9. Студент сдал первую сессию. Какова вероятность, что он учится: a). на факультете A б). на факультете B в). на факультете C?"
      ],
      "metadata": {
        "id": "4qfjeInlDpeu"
      }
    },
    {
      "cell_type": "code",
      "source": [
        "a = 1/4 * 0.8 + 1/4 * 0.7 + 1/2 * 0.9\n",
        "s1 = (1/4 * 0.8)/a\n",
        "s2 = (1/4 * 0.7)/a\n",
        "s3 = (1/2 * 0.9)/a\n",
        "print(a)\n",
        "print(s1)\n",
        "print(s2)\n",
        "print(s3)"
      ],
      "metadata": {
        "colab": {
          "base_uri": "https://localhost:8080/"
        },
        "id": "HThMptDKJz0Y",
        "outputId": "771c2bbb-0a50-453b-bde1-1e156194634e"
      },
      "execution_count": 5,
      "outputs": [
        {
          "output_type": "stream",
          "name": "stdout",
          "text": [
            "0.825\n",
            "0.24242424242424246\n",
            "0.21212121212121213\n",
            "0.5454545454545455\n"
          ]
        }
      ]
    },
    {
      "cell_type": "code",
      "source": [
        "n = 10000000\n",
        "\n",
        "prob = [0.8, 0.7, 0.9]\n",
        "passed = [0, 0, 0]\n",
        "\n",
        "for i in range(n):\n",
        "  j = random.randrange(0, 4)\n",
        "  if j == 3: \n",
        "    j = 2 \n",
        "  success = random.random() < prob[j]\n",
        "  if success == True: \n",
        "    passed[j] += 1\n",
        "\n",
        "a = np.sum(passed)\n",
        "\n",
        "for j in passed:\n",
        "   print(j/a)"
      ],
      "metadata": {
        "colab": {
          "base_uri": "https://localhost:8080/"
        },
        "id": "shndyV5RrfB_",
        "outputId": "d893d1cf-be26-4a42-e06d-c05f6bd88e60"
      },
      "execution_count": 45,
      "outputs": [
        {
          "output_type": "stream",
          "name": "stdout",
          "text": [
            "0.24241897039603696\n",
            "0.21221172568141974\n",
            "0.5453693039225432\n"
          ]
        }
      ]
    },
    {
      "cell_type": "markdown",
      "source": [
        "Устройство состоит из трех деталей. Для первой детали вероятность выйти из строя в первый месяц равна 0.1, для второй - 0.2, для третьей - 0.25. Какова вероятность того, что в первый месяц выйдут из строя: а). все детали б). только две детали в). хотя бы одна деталь г). от одной до двух деталей?"
      ],
      "metadata": {
        "id": "4Gy3KtKXDp2O"
      }
    },
    {
      "cell_type": "code",
      "source": [
        "p_all = 0.1 * 0.2 * 0.25\n",
        "p_all"
      ],
      "metadata": {
        "colab": {
          "base_uri": "https://localhost:8080/"
        },
        "id": "VEIP3J4Df2rA",
        "outputId": "db779dfd-ce6d-4415-b856-8e8a290bdcc2"
      },
      "execution_count": 32,
      "outputs": [
        {
          "output_type": "execute_result",
          "data": {
            "text/plain": [
              "0.005000000000000001"
            ]
          },
          "metadata": {},
          "execution_count": 32
        }
      ]
    },
    {
      "cell_type": "code",
      "source": [
        "n = 10000000\n",
        "k = 0\n",
        "\n",
        "for i in range(n):\n",
        "  b1 = random.randrange(0, 100) < 10\n",
        "  b2 = random.randrange(0, 100) < 20\n",
        "  b3 = random.randrange(0, 100) < 25\n",
        "  if b1 + b2 + b3 == 3:\n",
        "    k += 1\n",
        "\n",
        "print(f'Probability: {k/n}') "
      ],
      "metadata": {
        "colab": {
          "base_uri": "https://localhost:8080/"
        },
        "id": "wli8jrKDgmW2",
        "outputId": "c89bc9d3-67c3-46b7-e5f0-5ed6550a6119"
      },
      "execution_count": 47,
      "outputs": [
        {
          "output_type": "stream",
          "name": "stdout",
          "text": [
            "Probability: 0.0050168\n"
          ]
        }
      ]
    },
    {
      "cell_type": "code",
      "source": [
        "p1 = 0.1\n",
        "p2 = 0.2\n",
        "p3 = 0.25\n",
        "q1 = 1 - p1\n",
        "q2 = 1 - p2\n",
        "q3 = 1 - p3\n"
      ],
      "metadata": {
        "colab": {
          "base_uri": "https://localhost:8080/"
        },
        "id": "-_hQkEfZXxYV",
        "outputId": "f9b0d9b7-a381-42b3-e308-fa91dae7b720"
      },
      "execution_count": 20,
      "outputs": [
        {
          "output_type": "execute_result",
          "data": {
            "text/plain": [
              "0.08000000000000002"
            ]
          },
          "metadata": {},
          "execution_count": 20
        }
      ]
    },
    {
      "cell_type": "code",
      "source": [
        "p1*p2*q3 + p1*q2*p3 + q1*p2*p3"
      ],
      "metadata": {
        "id": "p_lrYO3tg2ys"
      },
      "execution_count": null,
      "outputs": []
    },
    {
      "cell_type": "code",
      "source": [
        "n = 10000000\n",
        "k = 0\n",
        "\n",
        "for i in range(n):\n",
        "  b1 = random.randrange(0, 100) < 10\n",
        "  b2 = random.randrange(0, 100) < 20\n",
        "  b3 = random.randrange(0, 100) < 25\n",
        "  if b1 + b2 + b3 == 2:\n",
        "    k += 1\n",
        "\n",
        "print(f'Probability: {k/n}') "
      ],
      "metadata": {
        "colab": {
          "base_uri": "https://localhost:8080/"
        },
        "id": "_4BkuQtYV-md",
        "outputId": "f0e3ba41-3c7d-49ea-a169-abe106db2160"
      },
      "execution_count": 21,
      "outputs": [
        {
          "output_type": "stream",
          "name": "stdout",
          "text": [
            "Probability: 0.0800575\n"
          ]
        }
      ]
    },
    {
      "cell_type": "code",
      "source": [
        "1 - (q1*q2*q3)"
      ],
      "metadata": {
        "colab": {
          "base_uri": "https://localhost:8080/"
        },
        "id": "MiFa0KjFhTwI",
        "outputId": "fd58dfe5-44ba-49e8-d43b-5ce9545e9b10"
      },
      "execution_count": 25,
      "outputs": [
        {
          "output_type": "execute_result",
          "data": {
            "text/plain": [
              "0.45999999999999996"
            ]
          },
          "metadata": {},
          "execution_count": 25
        }
      ]
    },
    {
      "cell_type": "code",
      "source": [
        "n = 1000000\n",
        "k = 0\n",
        "\n",
        "for i in range(n):\n",
        "  b1 = random.randrange(0, 100) < 10\n",
        "  b2 = random.randrange(0, 100) < 20\n",
        "  b3 = random.randrange(0, 100) < 25\n",
        "  if b1 + b2 + b3 >= 1:\n",
        "    k += 1\n",
        "\n",
        "print(f'Probability: {k/n}') "
      ],
      "metadata": {
        "colab": {
          "base_uri": "https://localhost:8080/"
        },
        "id": "Y1g7wJpZhLfW",
        "outputId": "e12a391c-56a2-4430-dbdf-4bf62dab4b63"
      },
      "execution_count": 24,
      "outputs": [
        {
          "output_type": "stream",
          "name": "stdout",
          "text": [
            "Probability: 0.460186\n"
          ]
        }
      ]
    },
    {
      "cell_type": "code",
      "source": [
        "p1*p2*q3 + p1*q2*p3 + q1*p2*p3 + p1*q2*q3 + q1*p2*q3 + q1*q2*p3"
      ],
      "metadata": {
        "colab": {
          "base_uri": "https://localhost:8080/"
        },
        "id": "GRUCngNciCaR",
        "outputId": "25fa2a09-3407-4b55-e0bc-9c9224ed3d73"
      },
      "execution_count": 27,
      "outputs": [
        {
          "output_type": "execute_result",
          "data": {
            "text/plain": [
              "0.45500000000000007"
            ]
          },
          "metadata": {},
          "execution_count": 27
        }
      ]
    },
    {
      "cell_type": "code",
      "source": [
        "n = 1000000\n",
        "k = 0\n",
        "\n",
        "for i in range(n):\n",
        "  b1 = random.randrange(0, 100) < 10\n",
        "  b2 = random.randrange(0, 100) < 20\n",
        "  b3 = random.randrange(0, 100) < 25\n",
        "  if b1 + b2 + b3 == 1 or b1 + b2 + b3 == 2:\n",
        "    k += 1\n",
        "\n",
        "print(f'Probability: {k/n}') "
      ],
      "metadata": {
        "colab": {
          "base_uri": "https://localhost:8080/"
        },
        "id": "lFteyimAhyGz",
        "outputId": "7297262d-b6c3-4f2d-aa98-b2a00efd4465"
      },
      "execution_count": 26,
      "outputs": [
        {
          "output_type": "stream",
          "name": "stdout",
          "text": [
            "Probability: 0.455311\n"
          ]
        }
      ]
    }
  ]
}